{
 "cells": [
  {
   "cell_type": "markdown",
   "metadata": {},
   "source": [
    "# シュレーディンガーの猫状態を準備し、シミュレーターで回路を実行する"
   ]
  },
  {
   "cell_type": "code",
   "execution_count": null,
   "metadata": {},
   "outputs": [],
   "source": [
    "# # Use Braket SDK Cost Tracking to estimate the cost to run this example\n",
    "# from braket.tracking import Tracker\n",
    "# t = Tracker().start()"
   ]
  },
  {
   "cell_type": "markdown",
   "metadata": {},
   "source": [
    "<div class=\"alert alert-block alert-info\">\n",
    "このノートブックは、Amazon Braket のスタート時にクローンされるノートブック\n",
    "Braket examples/getting_started/1_Running_quantum_circuits_on_simulators.ipynb\n",
    "に日本語訳と編集を加えたものです。\n",
    "</div>"
   ]
  },
  {
   "cell_type": "markdown",
   "metadata": {},
   "source": [
    "この チュートリアルでは、 [GHZ状態](https://en.wikipedia.org/wiki/Greenberger%E2%80%93Horne%E2%80%93Zeilinger_state) と呼ばれる、複数の量子ビットがエンタングルした非常に量子性の強い状態を作ります。（3人の物理学者Greenberger、Horne、Zeilingerにちなんで名付けられました）。GHZ状態は非常に非古典的（量子的）であるため、デコヒーレンス（外部からの擾乱）に非常に敏感です。 したがって、今日のハードウェアのパフォーマンスベンチマークとしてよく使用されます。 さらに、多くの量子情報プロトコルでは、量子エラー訂正、量子通信、量子計測のリソースとして使用されています。\n",
    "\n",
    "この量子状態は、ローカルシミュレーターまたはクラウドベースのマネージドシミュレーター SV1 で回路を実行できます。 古典シミュレータで構成した回路は、デバイスオブジェクトを再定義するだけで、回路定義を変更することなく、量子マシンでスムーズに実行できます。"
   ]
  },
  {
   "cell_type": "code",
   "execution_count": 1,
   "metadata": {},
   "outputs": [],
   "source": [
    "# general imports\n",
    "import matplotlib.pyplot as plt\n",
    "# magic word for producing visualizations in notebook\n",
    "%matplotlib inline\n",
    "import time\n",
    "import numpy as np\n",
    "\n",
    "# AWS imports: Import Braket SDK modules\n",
    "from braket.circuits import Circuit, Observable\n",
    "from braket.devices import LocalSimulator\n",
    "from braket.aws import AwsDevice\n",
    "from braket.tracking import Tracker"
   ]
  },
  {
   "cell_type": "markdown",
   "metadata": {},
   "source": [
    "### 問題：GHZ 状態を準備する"
   ]
  },
  {
   "cell_type": "markdown",
   "metadata": {},
   "source": [
    "目標：$N$ 量子ビット GHZ 状態を準備します（多くの量子情報処理やセンシングプロトコルで使われる基本的な量子状態です）：\n",
    "\n",
    "$$\\left|0,0, ...\\right> \\rightarrow \\left|\\mathrm{GHZ}\\right> = \\frac{1}{\\sqrt{2}}\\left(\\left|0,0, ...\\right> + \\left|1,1, ...\\right>\\right).$$"
   ]
  },
  {
   "cell_type": "markdown",
   "metadata": {},
   "source": [
    "GHZ状態は、いわゆる「シュレーディンガーの猫状態」としてよく知られています。 量子ビットの状態が全て0という状態と、すべての状態1という状態の量子的な重ね合わせ状態で、最も絡み合った量子状態のことを指します。\n",
    "\n",
    "この状態を準備するために、最初の量子ビットに作用する単一キュービットのアダマールゲート（Hと表記）とそれに続く一連の2キュービットのCNOTゲートを使用して、次の回路を構築して実行します。"
   ]
  },
  {
   "cell_type": "markdown",
   "metadata": {},
   "source": [
    "<div>\n",
    "<img src=\"circuit.png\" width=\"500\"/>\n",
    "</div>"
   ]
  },
  {
   "cell_type": "markdown",
   "metadata": {},
   "source": [
    "### 回路のセットアップ\n",
    "量子回路をセットアップします。\n"
   ]
  },
  {
   "cell_type": "code",
   "execution_count": 2,
   "metadata": {},
   "outputs": [],
   "source": [
    "# function to build GHZ state\n",
    "def ghz_circuit(n_qubits):\n",
    "    \"\"\"\n",
    "    function to return GHZ circuit ansatz\n",
    "    input: number of qubits\n",
    "    \"\"\"\n",
    "\n",
    "    # instantiate circuit object\n",
    "    circuit = Circuit()\n",
    "    \n",
    "    # add Hadamard gate on first qubit\n",
    "    circuit.h(0)\n",
    "\n",
    "    # apply series of CNOT gates\n",
    "    for ii in range(0, n_qubits-1):\n",
    "        circuit.cnot(control=ii, target=ii+1)\n",
    "\n",
    "    return circuit"
   ]
  },
  {
   "cell_type": "code",
   "execution_count": 3,
   "metadata": {},
   "outputs": [],
   "source": [
    "# define circuit\n",
    "n_qubits = 10\n",
    "ghz = ghz_circuit(n_qubits)"
   ]
  },
  {
   "cell_type": "code",
   "execution_count": 4,
   "metadata": {},
   "outputs": [
    {
     "name": "stdout",
     "output_type": "stream",
     "text": [
      "T  : |0|1|2|3|4|5|6|7|8|9|\n",
      "                          \n",
      "q0 : -H-C-----------------\n",
      "        |                 \n",
      "q1 : ---X-C---------------\n",
      "          |               \n",
      "q2 : -----X-C-------------\n",
      "            |             \n",
      "q3 : -------X-C-----------\n",
      "              |           \n",
      "q4 : ---------X-C---------\n",
      "                |         \n",
      "q5 : -----------X-C-------\n",
      "                  |       \n",
      "q6 : -------------X-C-----\n",
      "                    |     \n",
      "q7 : ---------------X-C---\n",
      "                      |   \n",
      "q8 : -----------------X-C-\n",
      "                        | \n",
      "q9 : -------------------X-\n",
      "\n",
      "T  : |0|1|2|3|4|5|6|7|8|9|\n"
     ]
    }
   ],
   "source": [
    "# print circuit\n",
    "print(ghz)"
   ]
  },
  {
   "cell_type": "markdown",
   "metadata": {},
   "source": [
    "### Local Simulator"
   ]
  },
  {
   "cell_type": "markdown",
   "metadata": {},
   "source": [
    "まず、ローカルシミュレータを使用して、回路をローカルで実行します。"
   ]
  },
  {
   "cell_type": "code",
   "execution_count": 5,
   "metadata": {},
   "outputs": [],
   "source": [
    "# set up device: Local Simulator\n",
    "device = LocalSimulator()"
   ]
  },
  {
   "cell_type": "code",
   "execution_count": 6,
   "metadata": {},
   "outputs": [
    {
     "name": "stdout",
     "output_type": "stream",
     "text": [
      "Counter({'1111111111': 504, '0000000000': 496})\n"
     ]
    }
   ],
   "source": [
    "# run circuit\n",
    "result = device.run(ghz, shots=1000).result()\n",
    "# get measurement shots\n",
    "counts = result.measurement_counts\n",
    "# print counts\n",
    "print(counts)"
   ]
  },
  {
   "cell_type": "code",
   "execution_count": 7,
   "metadata": {},
   "outputs": [
    {
     "data": {
      "text/plain": [
       "Text(0, 0.5, 'counts')"
      ]
     },
     "execution_count": 7,
     "metadata": {},
     "output_type": "execute_result"
    },
    {
     "data": {
      "image/png": "[encoded data removed]",
      "text/plain": [
       "<Figure size 432x288 with 1 Axes>"
      ]
     },
     "metadata": {
      "needs_background": "light"
     },
     "output_type": "display_data"
    }
   ],
   "source": [
    "# plot using Counter\n",
    "plt.bar(counts.keys(), counts.values())\n",
    "plt.xlabel('bitstrings')\n",
    "plt.ylabel('counts')"
   ]
  },
  {
   "cell_type": "markdown",
   "metadata": {},
   "source": [
    "測定ショットにしかアクセスできない量子ハードウェアとは対照的に、古典的なシミュレータでは、結果タイプを割り当てることにより、対応する観測量に対する完全な状態ベクトル、振幅、および期待値にアクセスできます。 そのためには、量子タスクを送信する前に、測定したい結果タイプを回路に追加する必要があります。 これは、デバッグに非常に役立ちます。\n",
    "\n",
    "3量子ビットGHZ状態の場合、状態ベクトル、$Z\\otimes Z\\otimes Z$の期待値、$|111\\rangle$状態の振幅を出力し、次のような出力が期待されます。\n",
    "$\\left|\\mathrm{GHZ}\\right> = \\frac{1}{\\sqrt{2}}\\left(\\left|0,0,0\\right> + \\left|1,1,1\\right>\\right) = \\left[\\frac{1}{\\sqrt{2}},0,0,0,0,0,0,\\frac{1}{\\sqrt{2}}\\right],$\n",
    "\n",
    "$\\left<ZZZ\\right>=0$, $\\left<111|\\mathrm{GHZ}\\right>=\\frac{1}{\\sqrt{2}}$."
   ]
  },
  {
   "cell_type": "code",
   "execution_count": 8,
   "metadata": {},
   "outputs": [
    {
     "name": "stdout",
     "output_type": "stream",
     "text": [
      "T  : |0|1|2|   Result Types   |\n",
      "                               \n",
      "q0 : -H-C---Expectation(Z@Z@Z)-\n",
      "        |   |                  \n",
      "q1 : ---X-C-Expectation(Z@Z@Z)-\n",
      "          | |                  \n",
      "q2 : -----X-Expectation(Z@Z@Z)-\n",
      "\n",
      "T  : |0|1|2|   Result Types   |\n",
      "\n",
      "Additional result types: StateVector, Amplitude(111)\n"
     ]
    }
   ],
   "source": [
    "# define circuit\n",
    "n_qubits = 3\n",
    "ghz = ghz_circuit(n_qubits)      \n",
    "\n",
    "# add the state_vector ResultType\n",
    "ghz.state_vector()\n",
    "# add the Z \\otimes Z \\otimes Z expectation value\n",
    "ghz.expectation(Observable.Z() @ Observable.Z() @ Observable.Z(), target=[0,1,2])\n",
    "# add the amplitude for |111>\n",
    "ghz.amplitude(state=[\"111\"])\n",
    "# print circuit including requested result types\n",
    "print(ghz)"
   ]
  },
  {
   "cell_type": "code",
   "execution_count": 9,
   "metadata": {},
   "outputs": [
    {
     "name": "stdout",
     "output_type": "stream",
     "text": [
      "Final EXACT state vector:\n",
      " [0.70710678+0.j 0.        +0.j 0.        +0.j 0.        +0.j\n",
      " 0.        +0.j 0.        +0.j 0.        +0.j 0.70710678+0.j]\n",
      "Expectation value <ZZZ>: 0.0\n",
      "Amplitude <111|Final state>: {'111': (0.7071067811865475+0j)}\n"
     ]
    }
   ],
   "source": [
    "# run the circuit and output the results\n",
    "task = device.run(ghz, shots=0)\n",
    "result = task.result()\n",
    "\n",
    "# print results\n",
    "print(\"Final EXACT state vector:\\n\", result.values[0])\n",
    "print(\"Expectation value <ZZZ>:\", np.round(result.values[1], 5))\n",
    "print(\"Amplitude <111|Final state>:\", result.values[2])"
   ]
  },
  {
   "cell_type": "markdown",
   "metadata": {},
   "source": [
    "GHZ状態を構成する、完全に相関関係のある3量子ビットの期待される結果を返していることがわかります。\n",
    "\n",
    "状態ベクトルと振幅は、古典的なシミュレータにおいてショット= 0の場合にのみ実行できることに注意してください。 シミュレータにおけるショット=0の場合、確率、期待値、および分散は、波動関数から導出された正確な値を意味します。 ショットが0より大きい場合、測定サンプルから取得した期待値に対応し、完全な状態ベクトルにアクセスすることはできません。 QPUデバイスでは、確率、サンプル、期待値、分散もサポートされていることに注意してください。"
   ]
  },
  {
   "cell_type": "markdown",
   "metadata": {},
   "source": [
    "### マネージドな量子計算シミュレータ SV1"
   ]
  },
  {
   "cell_type": "markdown",
   "metadata": {},
   "source": [
    "上記の Local Simulator とは対照的に、クラウドベースのシミュレータ SV1 で量子回路を実行することができます。 このアプローチでは、AWS 内部の別のリソースにアクセス レイテンシのオーバーヘッドがいくらか追加されますが、最適化されたクラウドハードウェアインフラストラクチャを活用することで、大規模な回線に役立ちます。 さらに、すべての結果は S3 に確実に保存されます。 ここでは、 ```run（）``` を使用したAPI呼び出しの一部として、この回路の実行に関連するメタデータと結果が保存される S3 の場所を指定する必要があります。"
   ]
  },
  {
   "cell_type": "code",
   "execution_count": 10,
   "metadata": {},
   "outputs": [],
   "source": [
    "# set up device\n",
    "device = AwsDevice(\"arn:aws:braket:::device/quantum-simulator/amazon/sv1\")"
   ]
  },
  {
   "cell_type": "code",
   "execution_count": 11,
   "metadata": {},
   "outputs": [],
   "source": [
    "# define larger GHZ circuit\n",
    "n_qubits = 15\n",
    "ghz = ghz_circuit(n_qubits)"
   ]
  },
  {
   "cell_type": "code",
   "execution_count": 12,
   "metadata": {},
   "outputs": [
    {
     "name": "stdout",
     "output_type": "stream",
     "text": [
      "Counter({'000000000000000': 528, '111111111111111': 472})\n",
      "Counts for all-zero bitstring: 528\n",
      "Counts for all-one bitstring: 472\n",
      "CPU times: user 146 ms, sys: 14.6 ms, total: 160 ms\n",
      "Wall time: 3.67 s\n"
     ]
    },
    {
     "data": {
      "image/png": "[encoded data removed]",
      "text/plain": [
       "<Figure size 432x288 with 1 Axes>"
      ]
     },
     "metadata": {
      "needs_background": "light"
     },
     "output_type": "display_data"
    }
   ],
   "source": [
    "%%time\n",
    "# run GHZ circuit on cloud simulator\n",
    "result = device.run(ghz, shots=1000).result()\n",
    "counts = result.measurement_counts\n",
    "print(counts)\n",
    "\n",
    "# plot using Counter\n",
    "plt.bar(counts.keys(), counts.values());\n",
    "plt.xlabel('bitstrings');\n",
    "plt.ylabel('counts');  \n",
    "\n",
    "# print counts of all-zero-string\n",
    "print('Counts for all-zero bitstring:', counts['0'*n_qubits])\n",
    "# print counts of all-one-string\n",
    "print('Counts for all-one bitstring:', counts['1'*n_qubits])"
   ]
  },
  {
   "cell_type": "markdown",
   "metadata": {},
   "source": [
    "__NOTE__: QPUやSV1を扱う場合、タスクごとにユニークなIDが割り振られます。AWS コンソールでタスクについて確認してみましょう。"
   ]
  },
  {
   "cell_type": "code",
   "execution_count": 13,
   "metadata": {},
   "outputs": [
    {
     "name": "stdout",
     "output_type": "stream",
     "text": [
      "Task ID: arn:aws:braket:us-west-2:137983788483:quantum-task/4ca813f3-8a30-4865-a082-5eaca38a5800\n",
      "Number of qubits: 15\n"
     ]
    }
   ],
   "source": [
    "# print unique TASK ID (task = execution of individual circuit)\n",
    "task_id = result.task_metadata.id\n",
    "# recover other metadata information such as number of qubits\n",
    "n = result.task_metadata.deviceParameters.paradigmParameters.qubitCount\n",
    "print('Task ID:', task_id)\n",
    "print('Number of qubits:', n)"
   ]
  },
  {
   "cell_type": "markdown",
   "metadata": {},
   "source": [
    "### マネージドな量子計算シミュレーターSV1でタスクを並列送信する\n",
    "\n",
    "マネージドシミュレーターを使用すると、タスクを並行して送信できます。 これらのタスクはキューに入り、タスクが実行された後に結果が返されます。 以下のセルは、並列タスクをマネージドシミュレーターに送信する例を示しています。"
   ]
  },
  {
   "cell_type": "code",
   "execution_count": 14,
   "metadata": {},
   "outputs": [
    {
     "name": "stdout",
     "output_type": "stream",
     "text": [
      "25-qubit task CREATED\n",
      "26-qubit task CREATED\n",
      "27-qubit task CREATED\n",
      "28-qubit task CREATED\n",
      "29-qubit task CREATED\n",
      "30-qubit task CREATED\n",
      "\n",
      "\n",
      "25-qubit task COMPLETED.\n",
      "This task ran 1000 shots and the total runtime was 593 ms\n",
      "Measurement results: Counter({'0000000000000000000000000': 518, '1111111111111111111111111': 482})\n",
      "\n",
      "26-qubit task COMPLETED.\n",
      "This task ran 1000 shots and the total runtime was 1200 ms\n",
      "Measurement results: Counter({'00000000000000000000000000': 529, '11111111111111111111111111': 471})\n",
      "\n",
      "27-qubit task COMPLETED.\n",
      "This task ran 1000 shots and the total runtime was 2397 ms\n",
      "Measurement results: Counter({'111111111111111111111111111': 520, '000000000000000000000000000': 480})\n",
      "\n",
      "28-qubit task COMPLETED.\n",
      "This task ran 1000 shots and the total runtime was 4858 ms\n",
      "Measurement results: Counter({'1111111111111111111111111111': 530, '0000000000000000000000000000': 470})\n",
      "\n",
      "29-qubit task COMPLETED.\n",
      "This task ran 1000 shots and the total runtime was 9738 ms\n",
      "Measurement results: Counter({'00000000000000000000000000000': 500, '11111111111111111111111111111': 500})\n",
      "\n",
      "30-qubit task COMPLETED.\n",
      "This task ran 1000 shots and the total runtime was 19679 ms\n",
      "Measurement results: Counter({'111111111111111111111111111111': 514, '000000000000000000000000000000': 486})\n",
      "\n",
      "$0.0540937500\n"
     ]
    }
   ],
   "source": [
    "with Tracker() as tracker:\n",
    "    tasks = {}\n",
    "    results = {}\n",
    "    # submit tasks in parallel \n",
    "    for n_qubits in range(25,31):\n",
    "        ghz = ghz_circuit(n_qubits)\n",
    "        tasks[n_qubits] = device.run(ghz, shots=1000)\n",
    "        print('{}-qubit task {}'.format(n_qubits,tasks[n_qubits].state()))\n",
    "\n",
    "    print('\\n')\n",
    "\n",
    "    for n_qubits in range(25,31):\n",
    "        # check the status of the task and wait until the task is complete\n",
    "        status = tasks[n_qubits].state()\n",
    "        while status != 'COMPLETED':\n",
    "            status = tasks[n_qubits].state()\n",
    "\n",
    "        results[n_qubits] = tasks[n_qubits].result()\n",
    "        # get the running time of the task\n",
    "        runtime = results[n_qubits].additional_metadata.simulatorMetadata.executionDuration\n",
    "        # get the 'shots' parameter from metadata\n",
    "        num_shots = results[n_qubits].task_metadata.shots\n",
    "        # get the measurement counts\n",
    "        counts = results[n_qubits].measurement_counts\n",
    "\n",
    "        print('{}-qubit task {}.'.format(n_qubits,status))\n",
    "        print('This task ran {} shots and the total runtime was {} ms'.format(num_shots,runtime))\n",
    "        print(\"Measurement results: {}\\n\".format(counts))\n",
    "        \n",
    "print('${}'.format(tracker.simulator_tasks_cost()))"
   ]
  },
  {
   "cell_type": "markdown",
   "metadata": {},
   "source": [
    "### シミュレータによる量子ビット数に対する計算時間の指数発散\n",
    "\n",
    "量子ビットの数 `n-qubit task` に対して 計算実行にかかった時間 `total runtime` を見ると、量子ビット数が増えると実行時間が指数的に大きくなってきていることがわかります。GHZ状態のように量子的な相関が強い計算を古典シミュレータで実行すると、量子ビットの数に対して計算時間が指数発散してしまうため、大きなサイズの量子計算をシミュレータでは扱うのが難しくなってきます。\n",
    " 量子コンピュータは、量子ビットが増えた際に計算時間の増加の指数発散を抑えるアルゴリズムをうまく活用することで、従来の計算機を上回る性能を出すことを期待されています。"
   ]
  },
  {
   "cell_type": "markdown",
   "metadata": {},
   "source": [
    "### [Appendix] QPUにおける量子ビットの増加に対する計算時間の変化\n",
    "同じ計算を量子デバイスで実行すると、実行時間はどう変わるでしょうか？\n",
    "量子ビットの数に対して計算時間は指数的に伸びているでしょうか？末尾の実行のサンプル結果を確認してみてください。\n",
    "\n",
    "※ 以下の実験を１回実行するのに、6タスク x (1タスク:0.3ドル + 1000ショット:0.35ドル) = 3.9ドル　のコストがかかりますのでご注意ください（実行時はセルをコメントアウトしてください）"
   ]
  },
  {
   "cell_type": "code",
   "execution_count": 15,
   "metadata": {},
   "outputs": [],
   "source": [
    "# set up device\n",
    "device = AwsDevice(\"arn:aws:braket:::device/qpu/rigetti/Aspen-11\")"
   ]
  },
  {
   "cell_type": "markdown",
   "metadata": {},
   "source": [
    "次のセルは、上記コードを実行し、Rigettiを使ったGHZ stateの実験結果の一例です。\n",
    "この結果を見ると、量子ビット数の増加に対して、計算時間は指数増加していないことがわかります。\n",
    "実際の実行時間を見ると、量子ビットの持つ可能性を実感いただけたかと思います。\n"
   ]
  },
  {
   "cell_type": "code",
   "execution_count": 16,
   "metadata": {},
   "outputs": [
    {
     "name": "stdout",
     "output_type": "stream",
     "text": [
      "25-qubit task CREATED\n",
      "26-qubit task CREATED\n",
      "27-qubit task CREATED\n",
      "28-qubit task CREATED\n",
      "29-qubit task CREATED\n",
      "30-qubit task CREATED\n",
      "31-qubit task CREATED\n",
      "32-qubit task CREATED\n",
      "33-qubit task CREATED\n",
      "34-qubit task CREATED\n",
      "35-qubit task CREATED\n",
      "36-qubit task CREATED\n",
      "37-qubit task CREATED\n",
      "38-qubit task CREATED\n",
      "\n",
      "\n",
      "25-qubit task COMPLETED.\n",
      "This task ran 1000 shots and the total runtime was 1116.5146484375 ms\n",
      "26-qubit task COMPLETED.\n",
      "This task ran 1000 shots and the total runtime was 981.7035522460938 ms\n",
      "27-qubit task COMPLETED.\n",
      "This task ran 1000 shots and the total runtime was 1057.2181396484375 ms\n",
      "28-qubit task COMPLETED.\n",
      "This task ran 1000 shots and the total runtime was 1067.06494140625 ms\n",
      "29-qubit task COMPLETED.\n",
      "This task ran 1000 shots and the total runtime was 1068.837890625 ms\n",
      "30-qubit task COMPLETED.\n",
      "This task ran 1000 shots and the total runtime was 1126.28955078125 ms\n",
      "31-qubit task COMPLETED.\n",
      "This task ran 1000 shots and the total runtime was 1229.788818359375 ms\n",
      "32-qubit task COMPLETED.\n",
      "This task ran 1000 shots and the total runtime was 1027.7496337890625 ms\n",
      "33-qubit task COMPLETED.\n",
      "This task ran 1000 shots and the total runtime was 1188.5567626953125 ms\n",
      "34-qubit task COMPLETED.\n",
      "This task ran 1000 shots and the total runtime was 1177.080810546875 ms\n",
      "35-qubit task COMPLETED.\n",
      "This task ran 1000 shots and the total runtime was 1350.77734375 ms\n",
      "36-qubit task COMPLETED.\n",
      "This task ran 1000 shots and the total runtime was 1609.9805908203125 ms\n",
      "37-qubit task COMPLETED.\n",
      "This task ran 1000 shots and the total runtime was 1751.022216796875 ms\n",
      "38-qubit task COMPLETED.\n",
      "This task ran 1000 shots and the total runtime was 1750.87841796875 ms\n",
      "$9.1000000000\n"
     ]
    }
   ],
   "source": [
    "# with Tracker() as tracker:\n",
    "#     tasks = {}\n",
    "#     results = {}\n",
    "#     # submit tasks in parallel \n",
    "#     for n_qubits in range(25,39):\n",
    "#         ghz = ghz_circuit(n_qubits)\n",
    "#         tasks[n_qubits] = device.run(ghz, shots=1000)\n",
    "#         print('{}-qubit task {}'.format(n_qubits,tasks[n_qubits].state()))\n",
    "\n",
    "#     print('\\n')\n",
    "\n",
    "#     for n_qubits in range(25,39):\n",
    "\n",
    "#         # check the status of the task and wait until the task is complete\n",
    "#         status = tasks[n_qubits].state()\n",
    "#         while status != 'COMPLETED':\n",
    "#             status = tasks[n_qubits].state()\n",
    "\n",
    "#         results[n_qubits] = tasks[n_qubits].result()\n",
    "#         # get the running time of the task\n",
    "#         runtime = results[n_qubits].additional_metadata.rigettiMetadata.nativeQuilMetadata.qpuRuntimeEstimation\n",
    "#         # get the 'shots' parameter from metadata\n",
    "#         num_shots = results[n_qubits].task_metadata.shots\n",
    "#         # get the measurement counts\n",
    "#         counts = results[n_qubits].measurement_counts\n",
    "\n",
    "#         print('{}-qubit task {}.'.format(n_qubits,status))\n",
    "#         print('This task ran {} shots and the total runtime was {} ms'.format(num_shots,runtime))\n",
    "#     #     print(\"Measurement results: {}\\n\".format(counts))\n",
    "    \n",
    "# print('${}'.format(tracker.qpu_tasks_cost()))"
   ]
  },
  {
   "cell_type": "code",
   "execution_count": null,
   "metadata": {},
   "outputs": [],
   "source": [
    "# print(\"Task Summary\")\n",
    "# print(t.quantum_tasks_statistics())\n",
    "# print('Note: Charges shown are estimates based on your Amazon Braket simulator and quantum processing unit (QPU) task usage. Estimated charges shown may differ from your actual charges. Estimated charges do not factor in any discounts or credits, and you may experience additional charges based on your use of other services such as Amazon Elastic Compute Cloud (Amazon EC2).')\n",
    "# print(f\"Estimated cost to run this example: {t.qpu_tasks_cost() + t.simulator_tasks_cost():.3f} USD\")"
   ]
  }
 ],
 "metadata": {
  "kernelspec": {
   "display_name": "conda_braket",
   "language": "python",
   "name": "conda_braket"
  },
  "language_info": {
   "codemirror_mode": {
    "name": "ipython",
    "version": 3
   },
   "file_extension": ".py",
   "mimetype": "text/x-python",
   "name": "python",
   "nbconvert_exporter": "python",
   "pygments_lexer": "ipython3",
   "version": "3.7.13"
  }
 },
 "nbformat": 4,
 "nbformat_minor": 4
}
