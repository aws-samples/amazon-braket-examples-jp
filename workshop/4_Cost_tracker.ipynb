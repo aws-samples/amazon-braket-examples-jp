{
 "cells": [
  {
   "cell_type": "markdown",
   "id": "a185a2a9",
   "metadata": {},
   "source": [
    "# ニアリアルタイムのコストトラッキングツール : Amazon Braket Cost Tracker"
   ]
  },
  {
   "cell_type": "markdown",
   "id": "ca1cf9d8",
   "metadata": {},
   "source": [
    "<div class=\"alert alert-block alert-info\">\n",
    "このノートブックは、<a href=\"https://aws-blogs-prod.amazon.com/news/managing-the-cost-of-your-experiments-in-amazon-braket/\">Amazon Braket のコスト管理</a> (原文: <a href=\"https://aws.amazon.com/jp/blogs/quantum-computing/managing-the-cost-of-your-experiments-in-amazon-braket/\">Managing the cost of your experiments in Amazon Braket</a>) の一部に編集を加えたものです。\n",
    "</div>"
   ]
  },
  {
   "cell_type": "markdown",
   "id": "64eee798",
   "metadata": {},
   "source": [
    "ある量子アルゴリズムが複雑であるため、その実行コストを事前に予測することが難しい場合があります。例えば、QML ハイブリッドアルゴリズムの実行時間は、収束に必要なイテレーション回数に依存します。最近、私たちは <a href=\"https://aws.amazon.com/about-aws/whats-new/2022/07/amazon-braket-sdk-near-real-time-cost-tracking/?nc1=h_ls\">Amazon Braket Cost Tracker というツールを発表しました</a>。この Cost Tracker は現在は Braket SDK に組み込まれています。このツールを用いることで、量子ワークロードが取りうる最大コストを、ほぼリアルタイムで見積もることができるようになります。\n",
    "\n",
    "Braket Cost Tracker の 1 行のコードを追加することで、QPU のタスクやショットにかかるコストや、シミュレーターの利用時間にかかるコストといった、使用する量子リソースごとのコストを把握できるようになります。\n",
    "\n",
    "このツールを使うには、まず `Tracker()` オブジェクトを初期化し、後はいつも通りにアルゴリズムを定義して実行します。このオブジェクトは、実行されるコンテクスト内のリソースをトラッキングします。トラッキングの範囲は、Notebook 全体にわたることも、変分アルゴリズム内の特定のイテレーションのみに絞ることも可能です。Cost Tracker は、使用状況をトラッキングし、コスト管理ロジックを簡略化するメソッドを提供します。これらの使い方は <a href=\"https://amazon-braket-sdk-python.readthedocs.io/en/latest/_apidoc/braket.tracking.tracker.html\">Braket SDK</a> のドキュメントに記載されています。\n",
    "\n",
    "Cost Tracker を実際に動かしてみましょう。以下の例では、ベル状態の回路を作成し、SV1 シミュレーター上で実行します。まず Braket SDK をインポートし、ベル状態を定義し、作成された量子タスクを追跡するために `Tracker()` オブジェクトをインスタンス化します。`statistics()` メソッドと `cost()` メソッドを呼び出すと、送信されたショット数、完了したタスクとそのステータス、実行時間、請求される実行時間、最大コスト (USD) が返されます。実行時間はシミュレーションごとに異なる場合があります。"
   ]
  },
  {
   "cell_type": "code",
   "execution_count": 1,
   "id": "981d8d8b",
   "metadata": {},
   "outputs": [
    {
     "name": "stdout",
     "output_type": "stream",
     "text": [
      "Counter({'00': 54, '11': 46})\n",
      "Task statistics: {'arn:aws:braket:::device/quantum-simulator/amazon/sv1': {'shots': 100, 'tasks': {'COMPLETED': 1}, 'execution_duration': datetime.timedelta(microseconds=48000), 'billed_execution_duration': datetime.timedelta(seconds=3)}}\n",
      "Estimated cost to run this example: 0.00375 USD\n"
     ]
    }
   ],
   "source": [
    "# Import any required modules\n",
    "from braket.aws import AwsDevice\n",
    "from braket.circuits import Circuit\n",
    "from braket.tracking import Tracker\n",
    "from braket.annealing import Problem,ProblemType\n",
    "\n",
    "# Create Bell state and initialize tracking\n",
    "circ = Circuit().h(0).cnot(0,1)\n",
    "device = AwsDevice(\"arn:aws:braket:::device/quantum-simulator/amazon/sv1\")\n",
    "with Tracker() as tracker:\n",
    "    task = device.run(circ, shots=100).result()\n",
    "\n",
    "# Your results\n",
    "print(task.measurement_counts)\n",
    "\n",
    "# Print tracker results\n",
    "print(f\"Task statistics: {tracker.quantum_tasks_statistics()}\")\n",
    "print(f\"Estimated cost to run this example: {tracker.simulator_tasks_cost():.5f} USD\")"
   ]
  },
  {
   "cell_type": "markdown",
   "id": "999bc914",
   "metadata": {},
   "source": [
    "このように、実行時間は 0.048 秒ですが、請求される実行時間は 3 秒です。これはシミュレータータスクの最低料金が 3 秒分であるためです。次に、device 変数を Aspen-M-3 QPU に変えて同じ回路を実行してみましょう。Cost Tracker の `tatistics()` メソッドを呼び出すと、実行時間の記述がなくなっています。これは、タスクとショットのみが料金計算の要素となるためです。"
   ]
  },
  {
   "cell_type": "code",
   "execution_count": 4,
   "id": "55ea7f99",
   "metadata": {},
   "outputs": [
    {
     "name": "stdout",
     "output_type": "stream",
     "text": [
      "Counter({'00': 46, '11': 44, '10': 7, '01': 3})\n",
      "Task statistics: {'arn:aws:braket:us-west-1::device/qpu/rigetti/Aspen-M-3': {'shots': 100, 'tasks': {'COMPLETED': 1}}}\n",
      "Estimated cost to run this example: 0.335 USD\n"
     ]
    }
   ],
   "source": [
    "# Create Bell state and initialize tracking \n",
    "circ = Circuit().h(0).cnot(0,1)\n",
    "device = AwsDevice(\"arn:aws:braket:us-west-1::device/qpu/rigetti/Aspen-M-3\")\n",
    "with Tracker() as tracker:\n",
    "    task = device.run(circ, shots=100).result()\n",
    "\n",
    "# Your results\n",
    "print(task.measurement_counts)\n",
    "\n",
    "# Print tracker results\n",
    "print(f\"Task statistics: {tracker.quantum_tasks_statistics()}\")\n",
    "print(f\"Estimated cost to run this example: {tracker.qpu_tasks_cost():.3f} USD\")"
   ]
  },
  {
   "cell_type": "markdown",
   "id": "c5b53209",
   "metadata": {},
   "source": [
    "## Cost Tracker を使用してコスト管理ロジックを追加する\n",
    "\n",
    "Tracker を使用して、実験にコスト管理ロジックを追加することができます。例えば、最大料金を設定し、与えられたワークロードにいくらまでなら支出してもよいか、といったことを決めることができます。以下の例は、Aspen-M-3 上で ベル状態の回路を実行し、総料金が定義された上限 (2.00 USD) を超えたら新しいタスクの実行を停止しています。これによってコストを制限しています。Tracker によると、1 タスク + 100 ショットのコストは 0.34 USD です。ここでは 2 USD を越えるまで問題を繰り返し実行し、その都度コストを表示するロジックを設定しています (結果的に 6 回実行することになります)。これにより、コストを指定した最大料金に近づけながらタスクを複数回実行できるため、実験に柔軟性が生まれます。"
   ]
  },
  {
   "cell_type": "code",
   "execution_count": 5,
   "id": "35bd6238",
   "metadata": {},
   "outputs": [
    {
     "name": "stdout",
     "output_type": "stream",
     "text": [
      "Estimated cost: 0.34 USD\n",
      "Estimated cost: 0.67 USD\n",
      "Estimated cost: 1.00 USD\n",
      "Estimated cost: 1.34 USD\n",
      "Estimated cost: 1.68 USD\n",
      "Estimated cost: 2.01 USD\n",
      "Task statistics: {'arn:aws:braket:us-west-1::device/qpu/rigetti/Aspen-M-3': {'shots': 600, 'tasks': {'COMPLETED': 6}}}\n"
     ]
    }
   ],
   "source": [
    "# Create Bell state and initialize tracking \n",
    "circ = Circuit().h(0).cnot(0,1)\n",
    "device = AwsDevice(\"arn:aws:braket:us-west-1::device/qpu/rigetti/Aspen-M-3\")\n",
    "with Tracker() as tracker:\n",
    "    while tracker.qpu_tasks_cost() <= 2:\n",
    "        task = device.run(circ, shots=100).result()\n",
    "        # Print the cost of each iteration\n",
    "        print(f\"Estimated cost: {tracker.qpu_tasks_cost():.2f} USD\")\n",
    "        \n",
    "# Print final results\n",
    "print(f\"Task statistics: {tracker.quantum_tasks_statistics()}\")"
   ]
  },
  {
   "cell_type": "markdown",
   "id": "ac2802b6",
   "metadata": {},
   "source": [
    "ここまでの例では、Tracker は 1 つの量子回路や 1 つのアニーリング問題の中で起動・停止していました。しかし、Tracker を 1 つの Notebook にわたって実行したり、Hybrid Jobsの特定のイテレーションに限定して使うこともできます。コストを調べたい箇所で、 `start` メソッドや `stop` メソッドを呼び出すだけで良いのです。"
   ]
  },
  {
   "cell_type": "markdown",
   "id": "0cf21497",
   "metadata": {},
   "source": [
    "## まとめ\n",
    "このノートブックでは、Braket SDK 上でほぼリアルタイムにコストをトラッキングできる Braket Cost Tracker を紹介しました。新しく登場した Cost Tracker は、既にすべての Braket Notebook サンプルに埋め込まれています。そのためコストの見通しが立てやすくなり、既存のワークロードにも組み込みやすくなりました。今すぐご利用を開始し、その効果を実感してみましょう！"
   ]
  },
  {
   "cell_type": "code",
   "execution_count": null,
   "id": "d76ffc9b",
   "metadata": {},
   "outputs": [],
   "source": []
  }
 ],
 "metadata": {
  "kernelspec": {
   "display_name": "conda_braket",
   "language": "python",
   "name": "conda_braket"
  },
  "language_info": {
   "codemirror_mode": {
    "name": "ipython",
    "version": 3
   },
   "file_extension": ".py",
   "mimetype": "text/x-python",
   "name": "python",
   "nbconvert_exporter": "python",
   "pygments_lexer": "ipython3",
   "version": "3.7.13"
  }
 },
 "nbformat": 4,
 "nbformat_minor": 5
}
