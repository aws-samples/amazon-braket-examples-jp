{
 "cells": [
  {
   "cell_type": "markdown",
   "metadata": {},
   "source": [
    "# 量子デバイス（QPU）の特性の違いを理解する\n",
    "それぞれのデバイスでは、使えるゲートが異なります。Amazon Braket では前述の `braket.circuits` クラスで回路とゲート操作が定義されており、`Circuit()` で作成した回路に対してゲート操作ができます。Simulator は全てのゲートを利用可能ですが、QPU によってはサポートされているゲートが異なります。"
   ]
  },
  {
   "cell_type": "markdown",
   "metadata": {},
   "source": [
    "## シミュレータで利用できる回路演算について\n",
    "SV1 などのシミュレータでは、[Amazon Braket SDK で実装されているゲートが全て利用可能](https://docs.aws.amazon.com/braket/latest/developerguide/braket-constructing-circuit.html)です。サポートしている演算（ユニタリーオペレータ）を表示します"
   ]
  },
  {
   "cell_type": "code",
   "execution_count": 1,
   "metadata": {},
   "outputs": [
    {
     "name": "stdout",
     "output_type": "stream",
     "text": [
      "Gate set supported by SDK:\n",
      " ['CCNot', 'CNot', 'CPhaseShift', 'CPhaseShift00', 'CPhaseShift01', 'CPhaseShift10', 'CSwap', 'CV', 'CY', 'CZ', 'ECR', 'H', 'I', 'ISwap', 'PSwap', 'PhaseShift', 'Rx', 'Ry', 'Rz', 'S', 'Si', 'Swap', 'T', 'Ti', 'Unitary', 'V', 'Vi', 'X', 'XX', 'XY', 'Y', 'YY', 'Z', 'ZZ']\n",
      "\n",
      "\n"
     ]
    }
   ],
   "source": [
    "from braket.circuits import Gate\n",
    "from braket.aws import AwsDevice\n",
    "import string\n",
    "\n",
    "# print all (the usual suspects) available gates currently available within SDK\n",
    "gate_set = [attr for attr in dir(Gate) if attr[0] in string.ascii_uppercase]\n",
    "print('Gate set supported by SDK:\\n', gate_set)\n",
    "print('\\n') "
   ]
  },
  {
   "cell_type": "markdown",
   "metadata": {},
   "source": [
    "---\n",
    "## IonQ について\n",
    "IonQ は、イオントラップという原理で作られた11量子ビットで構成されるデバイスです。\n",
    "\n",
    "デバイスタイプとして、Rigetti の ARN `arn:aws:braket:::device/qpu/ionq/ionQdevice` を指定し、このデバイスで利用できる量子ゲートのタイプと、量子ビット間の結合（トポロジー）について調べてみます。"
   ]
  },
  {
   "cell_type": "code",
   "execution_count": 2,
   "metadata": {},
   "outputs": [
    {
     "name": "stdout",
     "output_type": "stream",
     "text": [
      "Gate set supported by the IonQ device:\n",
      " ['x', 'y', 'z', 'rx', 'ry', 'rz', 'h', 'cnot', 's', 'si', 't', 'ti', 'v', 'vi', 'xx', 'yy', 'zz', 'swap']\n"
     ]
    }
   ],
   "source": [
    "# import the device module\n",
    "from braket.aws import AwsDevice\n",
    "\n",
    "device = AwsDevice(\"arn:aws:braket:::device/qpu/ionq/ionQdevice\")\n",
    "supported_gates = device.properties.action['braket.ir.jaqcd.program'].supportedOperations\n",
    "# print the supported gate set\n",
    "print('Gate set supported by the IonQ device:\\n', supported_gates)"
   ]
  },
  {
   "cell_type": "code",
   "execution_count": 3,
   "metadata": {},
   "outputs": [
    {
     "data": {
      "text/plain": [
       "{'fullyConnected': True, 'connectivityGraph': {}}"
      ]
     },
     "execution_count": 3,
     "metadata": {},
     "output_type": "execute_result"
    }
   ],
   "source": [
    "# take a look at the device connectivity graph\n",
    "device.properties.dict()['paradigm']['connectivity']"
   ]
  },
  {
   "cell_type": "markdown",
   "metadata": {},
   "source": [
    "IonQ は、11量子ビットがのそれぞれの量子ビットがそれ以外の全ての量子ビットと結合している、いわゆる全結合のトポロジーとなっています。そのため、任意の２量子ビットに対して、それぞれのデバイスに対してゲート操作が可能です。"
   ]
  },
  {
   "cell_type": "markdown",
   "metadata": {},
   "source": [
    "---\n",
    "## Rigetti について\n",
    "Rigetti Aspen M-3 は、超伝導量子ビットで構成された80量子ビットのデバイスです。\n",
    "\n",
    "デバイスタイプとして、Rigetti の ARN `arn:aws:braket:us-west-1::device/qpu/rigetti/Aspen-M-3` を指定します。"
   ]
  },
  {
   "cell_type": "code",
   "execution_count": 3,
   "metadata": {},
   "outputs": [
    {
     "name": "stdout",
     "output_type": "stream",
     "text": [
      "Gate set supported by the Rigetti device:\n",
      " ['cz', 'xy', 'ccnot', 'cnot', 'cphaseshift', 'cphaseshift00', 'cphaseshift01', 'cphaseshift10', 'cswap', 'h', 'i', 'iswap', 'phaseshift', 'pswap', 'rx', 'ry', 'rz', 's', 'si', 'swap', 't', 'ti', 'x', 'y', 'z', 'start_verbatim_box', 'end_verbatim_box']\n"
     ]
    }
   ],
   "source": [
    "device = AwsDevice(\"arn:aws:braket:us-west-1::device/qpu/rigetti/Aspen-M-3\")\n",
    "supported_gates = device.properties.action['braket.ir.jaqcd.program'].supportedOperations\n",
    "# print the supported gate set\n",
    "print('Gate set supported by the Rigetti device:\\n', supported_gates)"
   ]
  },
  {
   "cell_type": "code",
   "execution_count": 4,
   "metadata": {},
   "outputs": [
    {
     "data": {
      "text/plain": [
       "{'fullyConnected': False,\n",
       " 'connectivityGraph': {'0': ['1', '7', '103'],\n",
       "  '100': ['101', '107'],\n",
       "  '10': ['11', '17', '113'],\n",
       "  '110': ['111', '117'],\n",
       "  '20': ['21', '27', '123'],\n",
       "  '120': ['121', '127'],\n",
       "  '30': ['31', '37', '133'],\n",
       "  '130': ['131', '137'],\n",
       "  '40': ['41', '47', '143'],\n",
       "  '140': ['141', '147'],\n",
       "  '1': ['0', '2', '16'],\n",
       "  '101': ['100', '102'],\n",
       "  '11': ['10', '12'],\n",
       "  '111': ['110', '112', '126'],\n",
       "  '21': ['20', '22', '36'],\n",
       "  '121': ['120', '122'],\n",
       "  '31': ['30', '32', '46'],\n",
       "  '131': ['130', '132', '146'],\n",
       "  '41': ['40', '42'],\n",
       "  '141': ['140', '142'],\n",
       "  '2': ['1', '3', '15'],\n",
       "  '102': ['101', '103', '115'],\n",
       "  '12': ['11', '13', '25'],\n",
       "  '112': ['111', '113', '125'],\n",
       "  '22': ['21', '23', '35'],\n",
       "  '122': ['121', '123', '135'],\n",
       "  '32': ['31', '33', '45'],\n",
       "  '132': ['131', '133', '145'],\n",
       "  '42': ['41', '43'],\n",
       "  '142': ['141', '143'],\n",
       "  '3': ['2', '4'],\n",
       "  '103': ['102', '104', '0'],\n",
       "  '13': ['12', '14'],\n",
       "  '113': ['112', '114', '10'],\n",
       "  '23': ['22', '24'],\n",
       "  '123': ['122', '124', '20'],\n",
       "  '33': ['32', '34'],\n",
       "  '133': ['132', '134', '30'],\n",
       "  '43': ['42', '44'],\n",
       "  '143': ['142', '144', '40'],\n",
       "  '4': ['3', '5'],\n",
       "  '104': ['103', '105', '7'],\n",
       "  '14': ['13', '15'],\n",
       "  '114': ['113', '115', '17'],\n",
       "  '24': ['23', '25'],\n",
       "  '124': ['123', '125', '27'],\n",
       "  '34': ['33', '35'],\n",
       "  '134': ['133', '135', '37'],\n",
       "  '44': ['43', '45'],\n",
       "  '144': ['143', '145', '47'],\n",
       "  '5': ['4', '6'],\n",
       "  '105': ['104', '106'],\n",
       "  '15': ['14', '16', '2'],\n",
       "  '115': ['114', '102'],\n",
       "  '25': ['24', '26', '12'],\n",
       "  '125': ['124', '126', '112'],\n",
       "  '35': ['34', '36', '22'],\n",
       "  '135': ['134', '122'],\n",
       "  '45': ['44', '46', '32'],\n",
       "  '145': ['144', '146', '132'],\n",
       "  '6': ['5'],\n",
       "  '106': ['105', '107'],\n",
       "  '16': ['15', '17', '1'],\n",
       "  '116': ['117'],\n",
       "  '26': ['25', '27'],\n",
       "  '126': ['125', '127', '111'],\n",
       "  '36': ['35', '37', '21'],\n",
       "  '46': ['45', '47', '31'],\n",
       "  '146': ['145', '147', '131'],\n",
       "  '7': ['0', '104'],\n",
       "  '107': ['106', '100'],\n",
       "  '17': ['16', '10', '114'],\n",
       "  '117': ['116', '110'],\n",
       "  '27': ['26', '20', '124'],\n",
       "  '127': ['126', '120'],\n",
       "  '37': ['36', '30', '134'],\n",
       "  '137': ['130'],\n",
       "  '47': ['46', '40', '144'],\n",
       "  '147': ['146', '140']}}"
      ]
     },
     "execution_count": 4,
     "metadata": {},
     "output_type": "execute_result"
    }
   ],
   "source": [
    "# take a look at the device connectivity graph\n",
    "device.properties.dict()['paradigm']['connectivity']"
   ]
  },
  {
   "cell_type": "markdown",
   "metadata": {},
   "source": [
    "上記のように、Rigetti は 量子ビットがそれぞれ、２量子ビット、または３量子ビットに対して結合していることがわかります。この結合規則を見ながら、操作可能な量子ゲートをプログラミングして量子計算を実施する必要があります。"
   ]
  },
  {
   "cell_type": "markdown",
   "metadata": {},
   "source": [
    "----\n",
    "## Oxford Quantum Circuits (OQC) について\n",
    "OQC の Lucy は超伝導量子ビットで構成された8量子ビットのデバイスです。\n",
    "\n",
    "ARN `arn:aws:braket:eu-west-2::device/qpu/oqc/Lucy` を指定します。"
   ]
  },
  {
   "cell_type": "code",
   "execution_count": 5,
   "metadata": {},
   "outputs": [
    {
     "name": "stdout",
     "output_type": "stream",
     "text": [
      "Gate set supported by the OQC device:\n",
      " ['ccnot', 'cnot', 'cphaseshift', 'cswap', 'cy', 'cz', 'h', 'i', 'phaseshift', 'rx', 'ry', 'rz', 's', 'si', 'swap', 't', 'ti', 'v', 'vi', 'x', 'y', 'z', 'ecr', 'start_verbatim_box', 'end_verbatim_box']\n"
     ]
    }
   ],
   "source": [
    "device = AwsDevice(\"arn:aws:braket:eu-west-2::device/qpu/oqc/Lucy\")\n",
    "supported_gates = device.properties.action['braket.ir.jaqcd.program'].supportedOperations\n",
    "# print the supported gate set\n",
    "print('Gate set supported by the OQC device:\\n', supported_gates)"
   ]
  },
  {
   "cell_type": "markdown",
   "metadata": {},
   "source": [
    "---\n",
    "\n",
    "これで、QPU のそれぞれの特性を知ることができました。それぞれの QPU のデバイス特性を意識しながら、量子計算のコードを書いていきましょう。"
   ]
  },
  {
   "cell_type": "code",
   "execution_count": null,
   "metadata": {},
   "outputs": [],
   "source": []
  }
 ],
 "metadata": {
  "kernelspec": {
   "display_name": "conda_braket",
   "language": "python",
   "name": "conda_braket"
  },
  "language_info": {
   "codemirror_mode": {
    "name": "ipython",
    "version": 3
   },
   "file_extension": ".py",
   "mimetype": "text/x-python",
   "name": "python",
   "nbconvert_exporter": "python",
   "pygments_lexer": "ipython3",
   "version": "3.7.13"
  }
 },
 "nbformat": 4,
 "nbformat_minor": 4
}
