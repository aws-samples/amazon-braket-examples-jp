{
 "cells": [
  {
   "cell_type": "markdown",
   "metadata": {},
   "source": [
    "# 量子デバイス（QPU）の特性の違いを理解する\n",
    "それぞれのデバイスでは、使えるゲートが異なります。Amazon Braket では前述の `braket.circuits` クラスで回路とゲート操作が定義されており、`Circuit()` で作成した回路に対してゲート操作ができます。Simulator は全てのゲートを利用可能ですが、QPU によってはサポートされているゲートが異なります。"
   ]
  },
  {
   "cell_type": "markdown",
   "metadata": {},
   "source": [
    "## シミュレータで利用できる回路演算について\n",
    "SV1 などのシミュレータでは、[Amazon Braket SDK で実装されているゲートが全て利用可能](https://docs.aws.amazon.com/braket/latest/developerguide/braket-constructing-circuit.html)です。サポートしている演算（ユニタリーオペレータ）を表示します"
   ]
  },
  {
   "cell_type": "code",
   "execution_count": 1,
   "metadata": {},
   "outputs": [
    {
     "name": "stdout",
     "output_type": "stream",
     "text": [
      "Gate set supported by SDK:\n",
      " ['CCNot', 'CNot', 'CPhaseShift', 'CPhaseShift00', 'CPhaseShift01', 'CPhaseShift10', 'CSwap', 'CY', 'CZ', 'H', 'I', 'ISwap', 'PSwap', 'PhaseShift', 'Rx', 'Ry', 'Rz', 'S', 'Si', 'Swap', 'T', 'Ti', 'Unitary', 'V', 'Vi', 'X', 'XX', 'XY', 'Y', 'YY', 'Z', 'ZZ']\n",
      "\n",
      "\n"
     ]
    }
   ],
   "source": [
    "from braket.circuits import Gate\n",
    "from braket.aws import AwsDevice\n",
    "import string\n",
    "\n",
    "# print all (the usual suspects) available gates currently available within SDK\n",
    "gate_set = [attr for attr in dir(Gate) if attr[0] in string.ascii_uppercase]\n",
    "print('Gate set supported by SDK:\\n', gate_set)\n",
    "print('\\n') "
   ]
  },
  {
   "cell_type": "markdown",
   "metadata": {},
   "source": [
    "---\n",
    "## IonQ について\n",
    "IonQ は、イオントラップという原理で作られた11量子ビットで構成されるデバイスです。\n",
    "\n",
    "デバイスタイプとして、Rigetti の ARN `arn:aws:braket:::device/qpu/ionq/ionQdevice` を指定し、このデバイスで利用できる量子ゲートのタイプと、量子ビット間の結合（トポロジー）について調べてみます。"
   ]
  },
  {
   "cell_type": "code",
   "execution_count": 2,
   "metadata": {},
   "outputs": [
    {
     "name": "stdout",
     "output_type": "stream",
     "text": [
      "Quantum Gates supported by IonQ Device:\n",
      " ['x', 'y', 'z', 'rx', 'ry', 'rz', 'h', 'cnot', 's', 'si', 't', 'ti', 'v', 'vi', 'xx', 'yy', 'zz', 'swap', 'i']\n"
     ]
    }
   ],
   "source": [
    "# import the device module\n",
    "from braket.aws import AwsDevice\n",
    "\n",
    "device = AwsDevice(\"arn:aws:braket:::device/qpu/ionq/ionQdevice\")\n",
    "supported_gates = device.properties.action['braket.ir.jaqcd.program'].supportedOperations\n",
    "# print the supported gate set\n",
    "print('Gate set supported by the IonQ device:\\n', supported_gates)"
   ]
  },
  {
   "cell_type": "code",
   "execution_count": 3,
   "metadata": {},
   "outputs": [
    {
     "data": {
      "text/plain": [
       "{'fullyConnected': True, 'connectivityGraph': {}}"
      ]
     },
     "execution_count": 3,
     "metadata": {},
     "output_type": "execute_result"
    }
   ],
   "source": [
    "# take a look at the device connectivity graph\n",
    "device.properties.dict()['paradigm']['connectivity']"
   ]
  },
  {
   "cell_type": "markdown",
   "metadata": {},
   "source": [
    "IonQ は、11量子ビットがのそれぞれの量子ビットがそれ以外の全ての量子ビットと結合している、いわゆる全結合のトポロジーとなっています。そのため、任意の２量子ビットに対して、それぞれのデバイスに対してゲート操作が可能です。"
   ]
  },
  {
   "cell_type": "markdown",
   "metadata": {},
   "source": [
    "---\n",
    "## Rigetti について\n",
    "Rigetti Aspen M-1 は、超伝導量子ビットで構成された80量子ビットのデバイスです。\n",
    "\n",
    "デバイスタイプとして、Rigetti の ARN `arn:aws:braket:us-west-1::device/qpu/rigetti/Aspen-M-1` を指定します。"
   ]
  },
  {
   "cell_type": "code",
   "execution_count": 4,
   "metadata": {},
   "outputs": [
    {
     "name": "stdout",
     "output_type": "stream",
     "text": [
      "Quantum Gates supported by Aspen-8:\n",
      " ['cz', 'xy', 'ccnot', 'cnot', 'cphaseshift', 'cphaseshift00', 'cphaseshift01', 'cphaseshift10', 'cswap', 'h', 'i', 'iswap', 'phaseshift', 'pswap', 'rx', 'ry', 'rz', 's', 'si', 'swap', 't', 'ti', 'x', 'y', 'z']\n"
     ]
    }
   ],
   "source": [
    "device = AwsDevice(\"arn:aws:braket:us-west-1::device/qpu/rigetti/Aspen-M-1\")\n",
    "supported_gates = device.properties.action['braket.ir.jaqcd.program'].supportedOperations\n",
    "# print the supported gate set\n",
    "print('Gate set supported by the Rigetti device:\\n', supported_gates)"
   ]
  },
  {
   "cell_type": "code",
   "execution_count": 5,
   "metadata": {},
   "outputs": [
    {
     "data": {
      "text/plain": [
       "{'fullyConnected': False,\n",
       " 'connectivityGraph': {'0': ['7'],\n",
       "  '1': ['2', '16'],\n",
       "  '2': ['1', '3', '15'],\n",
       "  '3': ['2', '4'],\n",
       "  '4': ['3', '5'],\n",
       "  '5': ['4', '6'],\n",
       "  '6': ['5', '7'],\n",
       "  '7': ['0', '6'],\n",
       "  '10': ['11', '17'],\n",
       "  '11': ['10', '12', '26'],\n",
       "  '12': ['11', '13', '25'],\n",
       "  '13': ['12'],\n",
       "  '15': ['2', '16'],\n",
       "  '16': ['1', '15', '17'],\n",
       "  '17': ['10', '16'],\n",
       "  '20': ['21', '27'],\n",
       "  '21': ['20', '22', '36'],\n",
       "  '22': ['21', '23', '35'],\n",
       "  '23': ['22', '24'],\n",
       "  '24': ['23', '25'],\n",
       "  '25': ['12', '24', '26'],\n",
       "  '26': ['11', '25', '27'],\n",
       "  '27': ['20', '26'],\n",
       "  '30': ['31', '37'],\n",
       "  '31': ['30', '32'],\n",
       "  '32': ['31', '33'],\n",
       "  '33': ['32', '34'],\n",
       "  '34': ['33', '35'],\n",
       "  '35': ['22', '34', '36'],\n",
       "  '36': ['21', '35', '37'],\n",
       "  '37': ['30', '36']}}"
      ]
     },
     "execution_count": 5,
     "metadata": {},
     "output_type": "execute_result"
    }
   ],
   "source": [
    "# take a look at the device connectivity graph\n",
    "device.properties.dict()['paradigm']['connectivity']"
   ]
  },
  {
   "cell_type": "markdown",
   "metadata": {},
   "source": [
    "上記のように、Rigetti は 量子ビットがそれぞれ、２量子ビット、または３量子ビットに対して結合していることがわかります。この結合規則を見ながら、操作可能な量子ゲートをプログラミングして量子計算を実施する必要があります。"
   ]
  },
  {
   "cell_type": "markdown",
   "metadata": {},
   "source": [
    "----\n",
    "## Oxford Quantum Circuits (OQC) について\n",
    "OQC の Lucy は超伝導量子ビットで構成された8量子ビットのデバイスです。\n",
    "\n",
    "ARN `arn:aws:braket:eu-west-2::device/qpu/oqc/Lucy` を指定します。"
   ]
  },
  {
   "cell_type": "code",
   "execution_count": null,
   "metadata": {},
   "outputs": [],
   "source": [
    "device = AwsDevice(\"arn:aws:braket:eu-west-2::device/qpu/oqc/Lucy\")\n",
    "supported_gates = device.properties.action['braket.ir.jaqcd.program'].supportedOperations\n",
    "# print the supported gate set\n",
    "print('Gate set supported by the OQC device:\\n', supported_gates)"
   ]
  },
  {
   "cell_type": "markdown",
   "metadata": {},
   "source": [
    "---\n",
    "\n",
    "## D-Waveについて\n",
    "\n",
    "量子アニーラは、組合せ最適化問題、特に2次制約なし最適化（QUBO）のクラスに属する問題を解決するために設計された特殊用途の量子コンピューターです。 Amazon Braket を使用すると、Braket-Ocean プラグインを介して D-Wave の Ocean ソフトウェアを使用して D-Wave QPU をネイティブにプログラムできます。Amazon Braket ノートブックインスタンスには、Ocean と Braket-Ocean プラグインがプリインストールされています。\n",
    "\n",
    "D-Wave は複数のデバイスが利用可能です。"
   ]
  },
  {
   "cell_type": "markdown",
   "metadata": {},
   "source": [
    "### D-Wave 2000Q\n",
    "ARN `arn:aws:braket:::device/qpu/d-wave/DW_2000Q_6` を指定します。"
   ]
  },
  {
   "cell_type": "code",
   "execution_count": 6,
   "metadata": {
    "scrolled": true
   },
   "outputs": [
    {
     "name": "stdout",
     "output_type": "stream",
     "text": [
      "{'type': 'chimera', 'shape': [16, 16, 4]}\n",
      "qubit number =  2048\n"
     ]
    }
   ],
   "source": [
    "device = AwsDevice('arn:aws:braket:::device/qpu/d-wave/DW_2000Q_6')\n",
    "\n",
    "# take a look at the device connectivity graph\n",
    "topology = device.properties.dict()['provider']['topology']\n",
    "qubit_number = device.properties.dict()['provider']['qubitCount']\n",
    "print(topology)\n",
    "print('qubit number = ', qubit_number)"
   ]
  },
  {
   "cell_type": "markdown",
   "metadata": {},
   "source": [
    "### D-Wave Advantage 4.1\n",
    "ARN `arn:aws:braket:::device/qpu/d-wave/Advantage_system4` を指定します。"
   ]
  },
  {
   "cell_type": "code",
   "execution_count": 7,
   "metadata": {
    "scrolled": true
   },
   "outputs": [
    {
     "name": "stdout",
     "output_type": "stream",
     "text": [
      "{'type': 'pegasus', 'shape': [16]}\n",
      "qubit number =  5760\n"
     ]
    }
   ],
   "source": [
    "device = AwsDevice('arn:aws:braket:::device/qpu/d-wave/Advantage_system4')\n",
    "\n",
    "topology = device.properties.dict()['provider']['topology']\n",
    "qubit_number = device.properties.dict()['provider']['qubitCount']\n",
    "print(topology)\n",
    "print('qubit number = ', qubit_number)"
   ]
  },
  {
   "cell_type": "markdown",
   "metadata": {},
   "source": [
    "---\n",
    "\n",
    "これで、QPU のそれぞれの特性を知ることができました。それぞれの QPU のデバイス特性を意識しながら、量子計算のコードを書いていきましょう。"
   ]
  },
  {
   "cell_type": "code",
   "execution_count": null,
   "metadata": {},
   "outputs": [],
   "source": []
  }
 ],
 "metadata": {
  "kernelspec": {
   "display_name": "conda_braket",
   "language": "python",
   "name": "conda_braket"
  },
  "language_info": {
   "codemirror_mode": {
    "name": "ipython",
    "version": 3
   },
   "file_extension": ".py",
   "mimetype": "text/x-python",
   "name": "python",
   "nbconvert_exporter": "python",
   "pygments_lexer": "ipython3",
   "version": "3.7.13"
  }
 },
 "nbformat": 4,
 "nbformat_minor": 4
}
