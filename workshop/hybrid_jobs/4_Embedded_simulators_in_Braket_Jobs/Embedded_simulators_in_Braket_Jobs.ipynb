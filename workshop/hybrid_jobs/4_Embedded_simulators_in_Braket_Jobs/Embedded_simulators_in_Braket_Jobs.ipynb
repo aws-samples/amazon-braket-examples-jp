{
 "cells": [
  {
   "cell_type": "markdown",
   "id": "e4e6801d-93b4-412e-ba51-fb6df7c84827",
   "metadata": {
    "tags": []
   },
   "source": [
    "# Embedded Simulator in Braket Jobs"
   ]
  },
  {
   "cell_type": "markdown",
   "id": "9413fd8a-ca76-4076-877c-148b20fdba40",
   "metadata": {},
   "source": [
    "このノートブックでは、Braket Jobs の Embedded Simulator を紹介します。Embedded Simulator とは、ジョブインスタンス (アルゴリズムスクリプトを実行する計算リソース) 上で動作するローカルシミュレータのことです。一方、SV1, DM1, TN1 などの[オンデマンドシミュレータ](https://docs.aws.amazon.com/braket/latest/developerguide/braket-devices.html#braket-simulator-sv1)は、Amazon Braket によるオンデマンドの専用計算リソース上で量子回路の結果を計算するものです。量子・古典ハイブリッドワークロードは通常、量子回路の実行と変分パラメータの最適化の繰り返しで構成されています。Embedded Simulator を使用することで、全ての計算を同じ環境で行うことができます。これにより、最適化アルゴリズムは、Embedded Simulator が持つさまざまな機能を使うことができます。例えば、PennyLane を介して、サポートされているシミュレータに[随伴法や誤差逆伝播法](https://pennylane.readthedocs.io/en/stable/introduction/interfaces.html#simulation-based-differentiation) などの高度な勾配計算手法を活用することができます。これらの方法は、波動関数の中間状態へのアクセスに依存しており、Amazon Braket のオンデマンドシミュレータや QPU ではサポートされていません。さらに、Jobs の [Bring Your Own Container (BYOC)](https://docs.aws.amazon.com/braket/latest/developerguide/braket-jobs-byoc.html) 機能により、ユーザーはオープンソースシミュレータや独自のシミュレーションツールを使うこともできます。\n",
    "\n",
    "手動で設定した[Amazon EC2 インスタンス](https://aws.amazon.com/ec2/)や、ユーザーのローカル環境で実行するローカルシミュレータとは異なり、Hybrid Jobs はお客様に代わって計算資源を管理します。ジョブインスタンスは、ジョブの作成時に自動的に起動し、ジョブが終了すると終了するため、お客様は使用したリソースに対してのみ料金を支払います。お客様は複数のジョブを同時に投入することで、ハイパーパラメーターの最適化などの実験を加速させることができます。また、ジョブ作成時に選択するデバイスを変更することで、Embedded Simulator から QPU を含む他の Amazon Braket デバイスに切り替えることもできます。"
   ]
  },
  {
   "cell_type": "markdown",
   "id": "21b02529-8438-4ffa-a6d2-845c96ba2206",
   "metadata": {},
   "source": [
    "## Embedded Simulator に用いるデバイスの指定\n",
    "\n",
    "普通、ジョブを作成する際には、`AwsQuantumJob.create()` の `device` 引数にオンデマンドシミュレータか QPU の ARN (Amazon Resource Name) を指定します。しかし Embedded Simulator を使う際は、代わりに `device` 引数に <br> \n",
    "`device = \"local:<provider>/<simulator_name>\"` <br> という形式の文字列を指定します。\n",
    "`<provider>` と `<simulator_name>` は、英数字、`_`、`-`、`.` のみから構成される必要があります。例えば、[Braket-Pennylane プラグイン](https://github.com/aws/amazon-braket-pennylane-plugin-python)を使って Embedded Simulator を使うには、次のように記述します。"
   ]
  },
  {
   "cell_type": "code",
   "execution_count": 3,
   "id": "41775044-2071-4a8a-a36d-b968b11326f7",
   "metadata": {
    "tags": []
   },
   "outputs": [],
   "source": [
    "device = \"local:braket/braket.local.qubit\""
   ]
  },
  {
   "cell_type": "markdown",
   "id": "d3efc94f-8eb2-4079-84bc-194a3045ad7a",
   "metadata": {},
   "source": [
    "アルゴリズムスクリプトは、環境変数 `\"AMZN_BRAKET_DEVICE_ARN\"` を通じて、文字列 `device` にアクセスできます。 Braket では、`<provider>` と `<simulator_name>` にロジックを実行しません。お客様は、アルゴリズムスクリプト内で `<provider>` と `<simulator_name>` を指定し、任意のシミュレータを作成することができます。このノートでは、Braket-PennyLane プラグインを通してシミュレータを使用します。アルゴリズムスクリプトの一部として、ヘルパー関数 `get_device()` を用意し、`device` 変数をパースして PennyLane `qml.device` をセットアップします。"
   ]
  },
  {
   "cell_type": "code",
   "execution_count": 4,
   "id": "9a43c79a-41e7-4c15-9e6b-2b812a53c782",
   "metadata": {
    "tags": []
   },
   "outputs": [
    {
     "name": "stdout",
     "output_type": "stream",
     "text": [
      "import pennylane as qml\n",
      "import os\n",
      "\n",
      "def get_device(n_wires):\n",
      "    device_string = os.environ[\"AMZN_BRAKET_DEVICE_ARN\"]\n",
      "    device_prefix = device_string.split(\":\")[0]\n",
      "\n",
      "    if device_prefix==\"local\":\n",
      "        prefix, device_name = device_string.split(\"/\")\n",
      "        device = qml.device(device_name, \n",
      "                            wires=n_wires, \n",
      "                            custom_decomps={\"MultiRZ\": qml.MultiRZ.compute_decomposition})\n",
      "        print(\"Using local simulator: \", device.name)\n",
      "    else:\n",
      "        device = qml.device('braket.aws.qubit', \n",
      "                             device_arn=device_string, \n",
      "                             s3_destination_folder=None,\n",
      "                             wires=n_wires,\n",
      "                             parallel=True,\n",
      "                             max_parallel=30)\n",
      "        print(\"Using AWS managed device: \", device.name)\n",
      "        \n",
      "    return device"
     ]
    }
   ],
   "source": [
    "!cat qaoa/utils.py"
   ]
  },
  {
   "cell_type": "markdown",
   "id": "fbefae7f-5210-4ea5-9d69-160c7d2be57e",
   "metadata": {},
   "source": [
    "## Embedded Simulator を用いたジョブの実行\n",
    "今回の例では、Embedded Simulator 上で Hybrid Jobs を使い、グラフの全結合ノードの最大集合を求める Max-Clique 問題に対して QAOA アルゴリズムを実行します。詳細については、[グラフ最適化ノートブック](https://github.com/aws/amazon-braket-examples/blob/main/examples/pennylane/2_Graph_optimization_with_QAOA/2_Graph_optimization_with_QAOA.ipynb)を参照ください。今回使う QAOA スクリプトは、[qaoa_algorithm.py](https://github.com/aws/amazon-braket-examples/blob/main/examples/hybrid_jobs/4_Embedded_simulators_in_Braket_Jobs/qaoa/qaoa_algorithm.py) で定義されています。このアルゴリズムでは、`n_nodes` や `n_edges` といった Max-Clique 問題の設定に関連するハイパーパラメータと、反復回数やステップ数といった学習そのものに関連するパラメータが必要です。"
   ]
  },
  {
   "cell_type": "code",
   "execution_count": 5,
   "id": "40828262-df79-462a-877a-0088276f1652",
   "metadata": {
    "tags": []
   },
   "outputs": [],
   "source": [
    "hyperparameters={\n",
    "    \"n_nodes\": 6, \n",
    "    \"n_edges\": 8, \n",
    "    \"n_layers\": 3,\n",
    "    \"iterations\": 10,\n",
    "    \"stepsize\": 0.1,\n",
    "    \"seed\": 42,\n",
    "    \"diff_method\": \"parameter-shift\",\n",
    "}"
   ]
  },
  {
   "cell_type": "markdown",
   "id": "d143b38a-44d3-4213-b3b4-8c03fcbda344",
   "metadata": {},
   "source": [
    "アルゴリズムは PennyLane で書かれているため、対応するコンテナを選択する必要があります。PennyLane を含む構成済みのコンテナとして、PyTorch コンテナと TensorFlow コンテナの 2 つがあります。設定済みのコンテナについては [開発者ガイド](https://docs.aws.amazon.com/braket/latest/developerguide/braket-jobs-script-environment.html) を参照ください。それでは、PyTorch コンテナを実行してみましょう。"
   ]
  },
  {
   "cell_type": "code",
   "execution_count": 6,
   "id": "68ed33f9-0ca2-49c9-bb79-91728752e229",
   "metadata": {
    "tags": []
   },
   "outputs": [
    {
     "name": "stdout",
     "output_type": "stream",
     "text": [
      "292282985366.dkr.ecr.us-east-1.amazonaws.com/amazon-braket-pytorch-jobs:1.13.1-gpu-py39-cu117-ubuntu20.04\n"
     ]
    }
   ],
   "source": [
    "from braket.aws import AwsSession\n",
    "from braket.jobs.image_uris import Framework, retrieve_image\n",
    "\n",
    "region = AwsSession().region\n",
    "image_uri = retrieve_image(Framework.PL_PYTORCH, region)\n",
    "print(image_uri)"
   ]
  },
  {
   "cell_type": "markdown",
   "id": "e24786da-cc75-4bce-bc6f-e7700fb96beb",
   "metadata": {},
   "source": [
    "ハイブリッドジョブで Embedded Simulator を使用する場合、回路はジョブインスタンス上で実行されます。たくさんの量子ビットを持つ回路のシミュレーションなど、より大きな計算リソースを必要とするシミュレーションでは、多くのコア数や大容量メモリを持つジョブインスタンスを選択する必要があります。lightning.gpu のような GPUベースのシミュレータを使うには、GPU インスタンスを選択する必要があります。インスタンスを設定するには、`InstanceConfig` 引数を使います。利用可能なインスタンスタイプは、[開発者ガイド](https://docs.aws.amazon.com/braket/latest/APIReference/API_InstanceConfig.html) に記載されています。ここでは、汎用的なインスタンスタイプ (ml.m5.large) を使用することにしましょう。"
   ]
  },
  {
   "cell_type": "code",
   "execution_count": 7,
   "id": "9a71d324-6794-449f-836b-d4a6f7cdcd5e",
   "metadata": {
    "tags": []
   },
   "outputs": [],
   "source": [
    "from braket.jobs.config import InstanceConfig\n",
    "\n",
    "instance_config = InstanceConfig(instanceType='ml.m5.large')"
   ]
  },
  {
   "cell_type": "markdown",
   "id": "9994143f-344f-46f4-bd51-ed436082de76",
   "metadata": {},
   "source": [
    "`device` 引数を使うと、簡単に異なるデバイスを切り替えることができます。次のセルでは、3 行のうち 1 行のコメントを外すと、Braket ローカルシミュレータ、PennyLane default.qubit シミュレータ、オンデマンドの状態ベクトルシミュレータ SV1 のいずれかを実行できます。"
   ]
  },
  {
   "cell_type": "code",
   "execution_count": 8,
   "id": "b1dda158-8e36-4b6a-8324-3ff286f51b00",
   "metadata": {
    "tags": []
   },
   "outputs": [],
   "source": [
    "device=\"local:braket/braket.local.qubit\" # Using Braket local simulator\n",
    "# device=\"local:pennylane/default.qubit\" # Using Pennylane default.qubit simulator\n",
    "# device=\"arn:aws:braket:::device/quantum-simulator/amazon/sv1\" # Using Braket on-demand SV1 "
   ]
  },
  {
   "cell_type": "markdown",
   "id": "6150ac0e-a151-4b55-ab03-5b15c138f65a",
   "metadata": {},
   "source": [
    "それでは、ジョブを実行してみましょう！少なくとも、`device`, `source_module`, `entry_point` の引数を指定する必要があります。さらに以下のような他の引数でジョブをカスタマイズすることができます。\n",
    "- `device`: `\"local:<provider>/<simulator_name>\"` の形式に従い Embedded Simulator を指定するか、または使用したい Braket オンデマンドシミュレータや QPU の ARN を指定します。これはアルゴリズムスクリプトの環境変数として保存されます。\n",
    "- `source_module`: アルゴリズムスクリプトを含むファイルまたは Python モジュールへのパスです。Braket Job を実行する際、コンテナにアップロードされます。\n",
    "- `entry_point`: source_module からの相対パスです。Braket Job の開始時に実行されるコード部分を指します。\n",
    "- `hyperparameters`: ハイパーパラメータをキーと値で表す Python 辞書です (オプション)。\n",
    "- `job_name`: ジョブを識別するためのユニークな文字列です。Braket Job コンソールとジョブ ARN に表示されます (オプション)。\n",
    "- `instance_config`: ジョブ実行時に使用するインスタンスの設定です。デフォルトでは `InstanceConfig(instanceType='ml.m5.large', volumeSizeInGb=30)` です (オプション)。\n",
    "- `image_uri`: Docker コンテナイメージへのパスです (オプション)。\n",
    "- `wait_until_complete`: True の場合、関数呼び出しはジョブが完了するまで待機し、さらにローカルコンソールにログを出力します。そうでない場合は、非同期で実行されます。デフォルトは False です (オプション)。"
   ]
  },
  {
   "cell_type": "code",
   "execution_count": 9,
   "id": "6ac8d28e-fe40-4e75-b4fc-8580a446236e",
   "metadata": {
    "tags": []
   },
   "outputs": [],
   "source": [
    "import time\n",
    "from braket.aws import AwsQuantumJob\n",
    "\n",
    "job = AwsQuantumJob.create(\n",
    "    device=device,\n",
    "    source_module=\"qaoa\",\n",
    "    entry_point=\"qaoa.qaoa_algorithm\",\n",
    "    job_name=\"embedded-simulation-\" + str(int(time.time())),\n",
    "    hyperparameters=hyperparameters,\n",
    "    instance_config=instance_config,\n",
    "    image_uri=image_uri,\n",
    "    wait_until_complete=False,\n",
    ")"
   ]
  },
  {
   "cell_type": "code",
   "execution_count": 10,
   "id": "1579ee09-d2c2-4218-b93a-80de20cfad7a",
   "metadata": {
    "tags": []
   },
   "outputs": [
    {
     "name": "stdout",
     "output_type": "stream",
     "text": [
      "{'params': [[0.9170388720505324, 0.7204929371752304, 1.4528933994269753], [1.3895487869726206, 0.9665264386809151, -0.47009700306676805]], 'cost': -0.5536775832039885}\n"
     ]
    }
   ],
   "source": [
    "# このセルの実行には 6 分ほどかかります。\n",
    "print(job.result())"
   ]
  },
  {
   "cell_type": "markdown",
   "id": "176af925-d28c-4b81-8ea1-68b4e338f2ae",
   "metadata": {},
   "source": [
    "## 勾配計算方法のカスタマイズ\n",
    "量子回路の変分パラメータに対するコスト関数の勾配を計算する一般的な方法として、[パラメータシフト法](https://pennylane.ai/qml/glossary/parameter_shift.html)があります。パラメータシフト法では、パラメータをシフトした回路を複数回実行することで、勾配を正確に計算することができます。しかし，SV1 のような並列性の高いシミュレータを用いない限り，シフトされた回路をすべて実行するのは非常に時間がかかります。またその場合でも、回路数はパラメータ数に対して線形に増加します。一方，随伴微分法などの他の勾配法では，必要なメモリ量が増える代わりに，回路の実行回数を少なくすることができます。\n",
    "\n",
    "例えば、PennyLane の default.qubit シミュレータでは、ハイパーパラメータに `diff_method` 変数を指定することで 随伴微分法を使用することができます。なお、Amazon Braket のオンデマントシミュレータでは、PennyLane のパラメータシフト法しか使えません。"
   ]
  },
  {
   "cell_type": "code",
   "execution_count": 11,
   "id": "98f799f3-401d-49cf-b928-018165b8612e",
   "metadata": {
    "tags": []
   },
   "outputs": [],
   "source": [
    "hyperparameters={\n",
    "    \"n_nodes\": 6, \n",
    "    \"n_edges\": 8, \n",
    "    \"n_layers\": 3,\n",
    "    \"iterations\": 10,\n",
    "    \"stepsize\": 0.1,\n",
    "    \"seed\": 42,\n",
    "    \"diff_method\": \"adjoint\",\n",
    "}"
   ]
  },
  {
   "cell_type": "code",
   "execution_count": 12,
   "id": "e60d499a-4afe-4af7-9024-fca6bbc3ccca",
   "metadata": {
    "tags": []
   },
   "outputs": [],
   "source": [
    "job = AwsQuantumJob.create(\n",
    "    device=\"local:pennylane/default.qubit\",\n",
    "    source_module=\"qaoa\",\n",
    "    entry_point=\"qaoa.qaoa_algorithm\",\n",
    "    job_name=\"embedded-simulation-\" + str(int(time.time())),\n",
    "    hyperparameters=hyperparameters,\n",
    "    instance_config=instance_config,\n",
    "    image_uri=image_uri,\n",
    "    wait_until_complete=False,\n",
    ")"
   ]
  },
  {
   "cell_type": "code",
   "execution_count": 13,
   "id": "af27f6db-534f-41f8-8f78-aacd0c5c8e28",
   "metadata": {
    "tags": []
   },
   "outputs": [
    {
     "name": "stdout",
     "output_type": "stream",
     "text": [
      "{'params': [[0.9170388720505318, 0.7204929371752299, 1.452893399426975], [1.3895487869726204, 0.9665264386809148, -0.470097003066768]], 'cost': -0.55367758320399}\n"
     ]
    }
   ],
   "source": [
    "# このセルの実行には、6分ほどかかります。\n",
    "print(job.result())"
   ]
  },
  {
   "cell_type": "markdown",
   "id": "6b41ccd0-f782-4d91-97ab-5d0940db73a5",
   "metadata": {},
   "source": [
    "## `lightning.gpu` と cuQuantum を用いたシミュレーションの加速\n",
    "PyTorch と TensorFlow の[ジョブコンテナ](https://docs.aws.amazon.com/braket/latest/developerguide/braket-jobs-script-environment.html?tag=local002-20)には、[NVIDIA cuQuantum ライブラリ](https://developer.nvidia.com/cuquantum-sdk)と PennyLane の [GPU シミュレータ](https://github.com/PennyLaneAI/pennylane-lightning-gpu)である `lightning.gpu` が事前に設定されています。GPU シミュレータは、より大きな回路のシミュレーションを加速し、一定時間内にシミュレーションできる量子ビットの数を増やします。`lightning.gpu` を使用するには、GPU インスタンスを選択する必要があります。Braket Jobs は `lightning.gpu` と互換性のある以下ののインスタンスタイプをサポートしています。\n",
    "- p3.2xlarge\n",
    "- p3.8xlarge\n",
    "- p3.16xlarge"
   ]
  },
  {
   "cell_type": "code",
   "execution_count": 14,
   "id": "49884537-d276-4c3d-89d2-a9693fe1d461",
   "metadata": {
    "tags": []
   },
   "outputs": [],
   "source": [
    "instance_config = InstanceConfig(instanceType='ml.p3.2xlarge')"
   ]
  },
  {
   "cell_type": "markdown",
   "id": "6ac75ffc-3394-4d5e-96ff-b95126413580",
   "metadata": {},
   "source": [
    "また、GPU シミュレータは、パラメータシフト法と比較して勾配評価を大幅に高速化できる 随伴微分法もサポートしています。以下では、QAOA を使用して 22 ノードの Max-Clique 問題を解くジョブを作成します。このジョブの実行には 22 量子ビットを必要とします。各最適化にかかる時間は、`lightning.gpu` が約 1 分、CPU ベースのシミュレータである `lightning.qubit` が約 12 分です。この実行時間は、回路サイズ、問題の種類、計算リソースによって異なります。問題やインスタンスが変わると、パフォーマンスの挙動も変わる可能性があります。一般的に、CPU ベースのシミュレータは小さな回路の実行に適しており、GPU ベースのシミュレータは大きな回路に適しています。"
   ]
  },
  {
   "cell_type": "code",
   "execution_count": 15,
   "id": "f34e24cb-cdbf-46ff-b681-2a8cbc403742",
   "metadata": {
    "tags": []
   },
   "outputs": [],
   "source": [
    "hyperparameters={\n",
    "    \"n_nodes\": 22, \n",
    "    \"n_edges\": 150, \n",
    "    \"n_layers\": 3,\n",
    "    \"iterations\": 1,\n",
    "    \"stepsize\": 0.1,\n",
    "    \"seed\": 42,\n",
    "    \"diff_method\": \"adjoint\",\n",
    "}"
   ]
  },
  {
   "cell_type": "markdown",
   "id": "e63a09f5-485c-4f1c-a2bb-5cb739bfdc46",
   "metadata": {},
   "source": [
    "注意: 次のセルは、デフォルトのリソース制限では完了できない場合があります。アカウントの制限を増やすためには、[AWS サポート](https://support.console.aws.amazon.com/support/home#/case/create?issueType=service-limit-increase)までご連絡ください。"
   ]
  },
  {
   "cell_type": "code",
   "execution_count": 18,
   "id": "90516e3e-5eee-40b7-b58f-e6c4c818da10",
   "metadata": {
    "tags": []
   },
   "outputs": [],
   "source": [
    "# job = AwsQuantumJob.create(\n",
    "#     device=\"local:pennylane/lightning.gpu\",\n",
    "#     source_module=\"qaoa\",\n",
    "#     entry_point=\"qaoa.qaoa_algorithm\",\n",
    "#     job_name=\"embedded-simulation-\" + str(int(time.time())),\n",
    "#     hyperparameters=hyperparameters,\n",
    "#     instance_config=instance_config,\n",
    "#     image_uri=image_uri,\n",
    "#     wait_until_complete=False,\n",
    "# )"
   ]
  },
  {
   "cell_type": "code",
   "execution_count": 19,
   "id": "3ac309d5-69df-4e22-98ea-134327b4e111",
   "metadata": {
    "tags": []
   },
   "outputs": [],
   "source": [
    "# このセルの実行には、 9 分ほどかかります。\n",
    "# print(job.result())"
   ]
  },
  {
   "cell_type": "markdown",
   "id": "0c63d2c8-4b0c-4eaa-bd19-be9c52f9f20f",
   "metadata": {},
   "source": [
    "## ローカルモードによるデバッグ\n",
    "ジョブを投入する前に、ローカルでプログラムをデバッグしておくと便利なことがよくあります。Embedded Simulator をローカル環境で実行することで、テストやデバッグを迅速に行うことができます。この機能を使用するには、プログラミング環境に Docker がインストールされている必要があります。 Amazon Braket ノートブックには Docker がプリインストールされていますが、ローカルで、例えばノート PC でコードをテストしたい場合は、Docker をインストールする必要があります。詳細な手順は[こちら](https://docs.docker.com/get-docker/)をご確認ください。\n",
    "\n",
    "ローカルモードでは、ローカル環境にコンテナが作成され、そのコンテナ上でアルゴリズムが実行されます。ローカルモードでジョブを実行するには、Docker デーモンが起動していることを確認します。Amazon Braket ノートブックインスタンスを使用する場合は、既にこの準備は完了しています。その後、`AwsQuantumJob` の代わりに `LocalQuantumJob` を作成します。ローカルジョブは常に同期して実行され、ログを表示するので、`wait_until_complete` 引数はありません。ローカルモードのジョブはローカル環境で実行されるため、 `instance_config` 引数もありません。ローカルジョブの初回作成時は、コンテナを構築する必要があるため、時間が少しかかりますが、その後の実行はより高速になります。なお、ローカルジョブは、Amazon Braket コンソールには表示されません。ローカルモードでも、量子タスクを実際のデバイスに送信することはできますが、ローカルモード中に実際の QPU に対して実行しても、パフォーマンスのメリットは得られません。ローカルモードの詳細については、[開発者ガイド](https://docs.aws.amazon.com/braket/latest/developerguide/braket-jobs-local-mode.html)を参照してください。"
   ]
  },
  {
   "cell_type": "code",
   "execution_count": 20,
   "id": "44aa3b55-9ca1-45dc-80b0-775394f967d9",
   "metadata": {
    "tags": []
   },
   "outputs": [],
   "source": [
    "hyperparameters={\n",
    "    \"n_nodes\": 6, \n",
    "    \"n_edges\": 8, \n",
    "    \"n_layers\": 3,\n",
    "    \"iterations\": 10,\n",
    "    \"stepsize\": 0.1,\n",
    "    \"seed\": 42,\n",
    "    \"diff_method\": \"adjoint\",\n",
    "}"
   ]
  },
  {
   "cell_type": "code",
   "execution_count": 22,
   "id": "08f6ff5b-9f28-4b53-b016-e6f1f3e8eb29",
   "metadata": {
    "tags": []
   },
   "outputs": [
    {
     "name": "stderr",
     "output_type": "stream",
     "text": [
      "WARNING! Using --password via the CLI is insecure. Use --password-stdin.\n",
      "WARNING! Your password will be stored unencrypted in /home/ec2-user/.docker/config.json.\n",
      "Configure a credential helper to remove this warning. See\n",
      "https://docs.docker.com/engine/reference/commandline/login/#credentials-store\n",
      "\n",
      "Pulling docker container image. This may take a while.\n"
     ]
    },
    {
     "name": "stdout",
     "output_type": "stream",
     "text": [
      "Login Succeeded\n",
      "1.13.1-gpu-py39-cu117-ubuntu20.04: Pulling from amazon-braket-pytorch-jobs\n",
      "Digest: sha256:ab518e5af4141a9ce0cb9424c556e21a2fe8c4e4a5f2ff64cfcc85f3d46b3505\n",
      "Status: Image is up to date for 292282985366.dkr.ecr.us-east-1.amazonaws.com/amazon-braket-pytorch-jobs:1.13.1-gpu-py39-cu117-ubuntu20.04\n",
      "292282985366.dkr.ecr.us-east-1.amazonaws.com/amazon-braket-pytorch-jobs:1.13.1-gpu-py39-cu117-ubuntu20.04\n"
     ]
    },
    {
     "name": "stderr",
     "output_type": "stream",
     "text": [
      "Using the short-lived AWS credentials found in session. They might expire while running.\n"
     ]
    },
    {
     "name": "stdout",
     "output_type": "stream",
     "text": [
      "Boto3 Version:  1.26.64\n",
      "Beginning Setup\n",
      "Checking for Additional Requirements\n",
      "Additional Requirements Check Finished\n",
      "Running Code As Subprocess\n",
      "hyperparams:  {'n_nodes': '6', 'n_edges': '8', 'n_layers': '3', 'iterations': '10', 'stepsize': '0.1', 'seed': '42', 'diff_method': 'adjoint'}\n",
      "Using local simulator:  Default qubit PennyLane plugin\n",
      "number of observables:  13\n",
      "start optimizing...\n",
      "Metrics - timestamp=1684651535.0420568; Cost=4.570568368761232; iteration_number=0;\n",
      "Metrics - timestamp=1684651535.30743; Cost=2.6148149684630124; iteration_number=1;\n",
      "Metrics - timestamp=1684651535.5808728; Cost=1.0421622100067647; iteration_number=2;\n",
      "Metrics - timestamp=1684651535.845853; Cost=0.286949670853895; iteration_number=3;\n",
      "Metrics - timestamp=1684651536.109179; Cost=-0.25279908169178755; iteration_number=4;\n",
      "Metrics - timestamp=1684651536.3736026; Cost=-0.5599800238018436; iteration_number=5;\n",
      "Metrics - timestamp=1684651536.6450074; Cost=-0.5452012711678209; iteration_number=6;\n",
      "Metrics - timestamp=1684651536.9103014; Cost=-0.46554676264187245; iteration_number=7;\n",
      "Metrics - timestamp=1684651537.1744294; Cost=-0.4855957320274976; iteration_number=8;\n",
      "Metrics - timestamp=1684651537.4406106; Cost=-0.5284214035178895; iteration_number=9;\n",
      "Metrics - timestamp=1684651537.6996536; Cost=-0.55367758320399; iteration_number=10;\n",
      "Training Successful!!\n",
      "Code Run Finished\n",
      "cf6a43ac13d9aea5642898e2a20cfae779b4ae7dec346007de04981bdc0fda34\n"
     ]
    }
   ],
   "source": [
    "from braket.jobs.local.local_job import LocalQuantumJob\n",
    "\n",
    "# このセルは、初回は3分ほど、その後は30秒ほどで終わります。\n",
    "job = LocalQuantumJob.create(\n",
    "    device=\"local:pennylane/default.qubit\",\n",
    "    source_module=\"qaoa\",\n",
    "    entry_point=\"qaoa.qaoa_algorithm\",\n",
    "    job_name=\"embedded-simulation-\" + str(int(time.time())),\n",
    "    hyperparameters=hyperparameters,\n",
    "    image_uri=image_uri,\n",
    ")"
   ]
  },
  {
   "cell_type": "markdown",
   "id": "ea388d9b-cd50-42dc-83cb-7df4d18a774a",
   "metadata": {},
   "source": [
    "## まとめ\n",
    "このノートブックでは、Hybrid Jobs の Embedded Simulator の使い方を紹介しました。より詳しく知りたい方は、[ドキュメント](https://docs.aws.amazon.com/braket/latest/developerguide/braket-jobs.html)か他のサンプルノートブックをご参照ください。"
   ]
  },
  {
   "cell_type": "code",
   "execution_count": null,
   "id": "6ba38094-5324-4d76-b801-77a370e56979",
   "metadata": {},
   "outputs": [],
   "source": []
  }
 ],
 "metadata": {
  "kernelspec": {
   "display_name": "conda_braket",
   "language": "python",
   "name": "conda_braket"
  },
  "language_info": {
   "codemirror_mode": {
    "name": "ipython",
    "version": 3
   },
   "file_extension": ".py",
   "mimetype": "text/x-python",
   "name": "python",
   "nbconvert_exporter": "python",
   "pygments_lexer": "ipython3",
   "version": "3.10.11"
  }
 },
 "nbformat": 4,
 "nbformat_minor": 5
}
