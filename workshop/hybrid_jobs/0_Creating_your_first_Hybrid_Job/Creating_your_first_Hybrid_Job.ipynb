{
 "cells": [
  {
   "cell_type": "markdown",
   "id": "6ff3fe20-875c-4012-a88c-954ae4ed9044",
   "metadata": {},
   "source": [
    "# Amazon Braket Hybrid Jobs 入門\n",
    "\n",
    "このチュートリアルでは、Amazon Braket Hybrid Job を実行する方法を紹介します。始めに、1 つの量子ビットと 1 つのゲートのみを持つシンプルな回路を考えます。\n",
    "\n",
    "## 内容\n",
    "* セットアップ\n",
    "* ジョブで実行するアルゴリズムスクリプトの作成\n",
    "* スクリプトや関数の実行方法\n",
    "* Braket のシミュレータや QPU を使ったジョブの作成\n",
    "* ジョブの状態の確認\n",
    "* ジョブの結果を保存\n",
    "* 特定の AWS セッションの使用\n",
    "* QPU 上の優先的なジョブの実行\n",
    "* ローカルジョブを使用したスクリプトの迅速なテストおよびデバッグ\n",
    "* Braket コンソールを使用したジョブの作成"
   ]
  },
  {
   "cell_type": "markdown",
   "id": "40d94ecf-283f-4916-9369-3aae8faac4fa",
   "metadata": {},
   "source": [
    "## Braket ジョブを実行するためのセットアップ\n",
    "\n",
    "Amazon Braket Hybrid Jobsを初めて使用する場合、[適切な権限](https://docs.aws.amazon.com/braket/latest/developerguide/braket-manage-access.html#about-amazonbraketjobsexecution)を持つ IAM ロールを作成する必要があります。このロールはジョブがアルゴリズムを実行する際、お客様の代わりになってアクションを実行します。例えば、ジョブの結果を返すために S3 にアクセスさせるかどうかなどをこの IAM ロールで指定します。ロールの作成 / 確認を行うには、Braket Console の左メニューから Permissions タブにアクセスしてください。\n",
    "\n",
    "## アルゴリズムスクリプトの作成\n",
    "\n",
    "Braket Job を作成するには、まず実行するための Python スクリプトが必要です。今回の例では、`algorithm_script.py` にあたります。以下のセルにその中身を載せています。\n",
    "\n",
    "これを見ると、各回路には、ランダムな角度の $X$ 回転ゲートが 1 つだけあり、角度を変えて 5 回繰り返されることがわかります。なお、このアルゴリズムスクリプトでは、バックエンドの Amazon Braket デバイス の ARN を明示的に指定していません。代わりに、ジョブの作成時にアルゴリズムスクリプトに渡される環境変数 `os.environ[\"AMZN_BRAKET_DEVICE_ARN\"]` として指定しています。"
   ]
  },
  {
   "cell_type": "markdown",
   "id": "d5dfbfe8-c542-4f77-a5a8-6aa59c1d638d",
   "metadata": {},
   "source": [
    "#### このセルはアルゴリズムスクリプトのコピーです。\n",
    "\n",
    "```python\n",
    "\n",
    "import os\n",
    "import numpy as np\n",
    "\n",
    "from braket.aws import AwsDevice\n",
    "from braket.circuits import Circuit\n",
    "from braket.jobs import save_job_result\n",
    "from braket.tracking import Tracker\n",
    "\n",
    "t = Tracker().start()\n",
    "\n",
    "print(\"Test job started!\")\n",
    "\n",
    "# Use the device declared in the creation script\n",
    "device = AwsDevice(os.environ[\"AMZN_BRAKET_DEVICE_ARN\"])\n",
    "\n",
    "counts_list = []\n",
    "angle_list = []\n",
    "for _ in range(5):\n",
    "    angle = np.pi * np.random.randn()\n",
    "    random_circuit = Circuit().rx(0, angle)\n",
    "\n",
    "    task = device.run(random_circuit, shots=100)\n",
    "    counts = task.result().measurement_counts\n",
    "\n",
    "    angle_list.append(angle)\n",
    "    counts_list.append(counts)\n",
    "    print(counts)\n",
    "\n",
    "# Save the variables of interest so that we can access later\n",
    "save_job_result({\"counts\": counts_list, \"angle\": angle_list, \"estimated cost\": t.qpu_tasks_cost() + t.simulator_tasks_cost()})\n",
    "\n",
    "print(\"Test job completed!\")\n",
    "```"
   ]
  },
  {
   "cell_type": "markdown",
   "id": "a32a6b41-5d5b-4206-8074-1440ea933f78",
   "metadata": {},
   "source": [
    "## ジョブを作成する\n",
    "\n",
    "スクリプトが書けたら、`AwsQuantumJob`で Braket Job を作成することができます。ジョブが作成されると、Amazon Braket はジョブインスタンス (EC2 ベース) を起動し、Docker コンテナ上でアルゴリズムスクリプトを実行します。その他の設定は引数として指定することができます。ジョブをカスタマイズする方法については、[開発者ガイド](https://docs.aws.amazon.com/braket/latest/developerguide/what-is-braket.html)や他のサンプルノートブックを参照してください。\n",
    "\n",
    "今回の例では、`AwsQuantumJob` に以下の設定を行っています。\n",
    "- <b>device</b>: ジョブで使われる Braket シミュレータもしくは QPU の ARN です。アルゴリズムスクリプトへの環境変数として渡されます。\n",
    "- <b>source_module</b>:　アルゴリズムスクリプトを含むファイルもしくは Python モジュールへのパスです。Braket Job を実行するコンテナにアップロードされます。\n",
    "- <b>wait_until_complete (オプション)</b>: True の場合、ジョブが完了するまで待機し、ローカルのコンソールにログを出力します。False の場合、ジョブを非同期に実行します。デフォルト値は False です。"
   ]
  },
  {
   "cell_type": "code",
   "execution_count": 1,
   "id": "86f3f665-7c73-4b58-9e17-66a447a1e8b1",
   "metadata": {
    "tags": []
   },
   "outputs": [],
   "source": [
    "from braket.aws import AwsQuantumJob"
   ]
  },
  {
   "cell_type": "code",
   "execution_count": 2,
   "id": "2b956890-cca3-4d13-b54f-3c80c7d61e5c",
   "metadata": {
    "tags": []
   },
   "outputs": [
    {
     "name": "stdout",
     "output_type": "stream",
     "text": [
      "Initializing Braket Job: arn:aws:braket:us-east-1:700863243650:job/braket-job-default-1684033674250\n",
      ".........................\n",
      "\u001b[34m2023-05-14 03:10:08,379 sagemaker-training-toolkit INFO     No GPUs detected (normal if no gpus installed)\u001b[0m\n",
      "\u001b[34m2023-05-14 03:10:08,393 sagemaker-training-toolkit INFO     No GPUs detected (normal if no gpus installed)\u001b[0m\n",
      "\u001b[34m2023-05-14 03:10:08,405 sagemaker-training-toolkit INFO     No GPUs detected (normal if no gpus installed)\u001b[0m\n",
      "\u001b[34m2023-05-14 03:10:08,416 sagemaker-training-toolkit INFO     Invoking user script\u001b[0m\n",
      "\u001b[34mTraining Env:\u001b[0m\n",
      "\u001b[34m{\n",
      "    \"additional_framework_parameters\": {},\n",
      "    \"channel_input_dirs\": {},\n",
      "    \"current_host\": \"algo-1\",\n",
      "    \"framework_module\": null,\n",
      "    \"hosts\": [\n",
      "        \"algo-1\"\n",
      "    ],\n",
      "    \"hyperparameters\": {},\n",
      "    \"input_config_dir\": \"/opt/ml/input/config\",\n",
      "    \"input_data_config\": {},\n",
      "    \"input_dir\": \"/opt/ml/input\",\n",
      "    \"is_master\": true,\n",
      "    \"job_name\": \"bef49f5c-f5d7-43dc-9849-d08a5fc489a1\",\n",
      "    \"log_level\": 20,\n",
      "    \"master_hostname\": \"algo-1\",\n",
      "    \"model_dir\": \"/opt/ml/model\",\n",
      "    \"module_dir\": \"/opt/ml/code\",\n",
      "    \"module_name\": \"braket_container\",\n",
      "    \"network_interface_name\": \"eth0\",\n",
      "    \"num_cpus\": 2,\n",
      "    \"num_gpus\": 0,\n",
      "    \"output_data_dir\": \"/opt/ml/output/data\",\n",
      "    \"output_dir\": \"/opt/ml/output\",\n",
      "    \"output_intermediate_dir\": \"/opt/ml/output/intermediate\",\n",
      "    \"resource_config\": {\n",
      "        \"current_host\": \"algo-1\",\n",
      "        \"current_instance_type\": \"ml.m5.large\",\n",
      "        \"current_group_name\": \"homogeneousCluster\",\n",
      "        \"hosts\": [\n",
      "            \"algo-1\"\n",
      "        ],\n",
      "        \"instance_groups\": [\n",
      "            {\n",
      "                \"instance_group_name\": \"homogeneousCluster\",\n",
      "                \"instance_type\": \"ml.m5.large\",\n",
      "                \"hosts\": [\n",
      "                    \"algo-1\"\n",
      "                ]\n",
      "            }\n",
      "        ],\n",
      "        \"network_interface_name\": \"eth0\"\n",
      "    },\n",
      "    \"user_entry_point\": \"braket_container.py\"\u001b[0m\n",
      "\u001b[34m}\u001b[0m\n",
      "\u001b[34mEnvironment variables:\u001b[0m\n",
      "\u001b[34mSM_HOSTS=[\"algo-1\"]\u001b[0m\n",
      "\u001b[34mSM_NETWORK_INTERFACE_NAME=eth0\u001b[0m\n",
      "\u001b[34mSM_HPS={}\u001b[0m\n",
      "\u001b[34mSM_USER_ENTRY_POINT=braket_container.py\u001b[0m\n",
      "\u001b[34mSM_FRAMEWORK_PARAMS={}\u001b[0m\n",
      "\u001b[34mSM_RESOURCE_CONFIG={\"current_group_name\":\"homogeneousCluster\",\"current_host\":\"algo-1\",\"current_instance_type\":\"ml.m5.large\",\"hosts\":[\"algo-1\"],\"instance_groups\":[{\"hosts\":[\"algo-1\"],\"instance_group_name\":\"homogeneousCluster\",\"instance_type\":\"ml.m5.large\"}],\"network_interface_name\":\"eth0\"}\u001b[0m\n",
      "\u001b[34mSM_INPUT_DATA_CONFIG={}\u001b[0m\n",
      "\u001b[34mSM_OUTPUT_DATA_DIR=/opt/ml/output/data\u001b[0m\n",
      "\u001b[34mSM_CHANNELS=[]\u001b[0m\n",
      "\u001b[34mSM_CURRENT_HOST=algo-1\u001b[0m\n",
      "\u001b[34mSM_MODULE_NAME=braket_container\u001b[0m\n",
      "\u001b[34mSM_LOG_LEVEL=20\u001b[0m\n",
      "\u001b[34mSM_FRAMEWORK_MODULE=\u001b[0m\n",
      "\u001b[34mSM_INPUT_DIR=/opt/ml/input\u001b[0m\n",
      "\u001b[34mSM_INPUT_CONFIG_DIR=/opt/ml/input/config\u001b[0m\n",
      "\u001b[34mSM_OUTPUT_DIR=/opt/ml/output\u001b[0m\n",
      "\u001b[34mSM_NUM_CPUS=2\u001b[0m\n",
      "\u001b[34mSM_NUM_GPUS=0\u001b[0m\n",
      "\u001b[34mSM_MODEL_DIR=/opt/ml/model\u001b[0m\n",
      "\u001b[34mSM_MODULE_DIR=/opt/ml/code\u001b[0m\n",
      "\u001b[34mSM_TRAINING_ENV={\"additional_framework_parameters\":{},\"channel_input_dirs\":{},\"current_host\":\"algo-1\",\"framework_module\":null,\"hosts\":[\"algo-1\"],\"hyperparameters\":{},\"input_config_dir\":\"/opt/ml/input/config\",\"input_data_config\":{},\"input_dir\":\"/opt/ml/input\",\"is_master\":true,\"job_name\":\"bef49f5c-f5d7-43dc-9849-d08a5fc489a1\",\"log_level\":20,\"master_hostname\":\"algo-1\",\"model_dir\":\"/opt/ml/model\",\"module_dir\":\"/opt/ml/code\",\"module_name\":\"braket_container\",\"network_interface_name\":\"eth0\",\"num_cpus\":2,\"num_gpus\":0,\"output_data_dir\":\"/opt/ml/output/data\",\"output_dir\":\"/opt/ml/output\",\"output_intermediate_dir\":\"/opt/ml/output/intermediate\",\"resource_config\":{\"current_group_name\":\"homogeneousCluster\",\"current_host\":\"algo-1\",\"current_instance_type\":\"ml.m5.large\",\"hosts\":[\"algo-1\"],\"instance_groups\":[{\"hosts\":[\"algo-1\"],\"instance_group_name\":\"homogeneousCluster\",\"instance_type\":\"ml.m5.large\"}],\"network_interface_name\":\"eth0\"},\"user_entry_point\":\"braket_container.py\"}\u001b[0m\n",
      "\u001b[34mSM_USER_ARGS=[]\u001b[0m\n",
      "\u001b[34mSM_OUTPUT_INTERMEDIATE_DIR=/opt/ml/output/intermediate\u001b[0m\n",
      "\u001b[34mPYTHONPATH=/opt/ml/code:/usr/local/bin:/usr/local/lib/python38.zip:/usr/local/lib/python3.8:/usr/local/lib/python3.8/lib-dynload:/usr/local/lib/python3.8/site-packages\u001b[0m\n",
      "\u001b[34mInvoking script with the following command:\u001b[0m\n",
      "\u001b[34m/usr/local/bin/python3.8 braket_container.py\u001b[0m\n",
      "\u001b[34mBoto3 Version:  1.26.64\u001b[0m\n",
      "\u001b[34mBeginning Setup\u001b[0m\n",
      "\u001b[34mChecking for Additional Requirements\u001b[0m\n",
      "\u001b[34mAdditional Requirements Check Finished\u001b[0m\n",
      "\u001b[34mRunning Code As Subprocess\u001b[0m\n",
      "\u001b[34mTest job started!!!!!\u001b[0m\n",
      "\u001b[34mCounter({'1': 82, '0': 18})\u001b[0m\n",
      "\u001b[34mMetrics - timestamp=1684033813.6415727; braket_tasks_cost=0.00375; iteration_number=0;\u001b[0m\n",
      "\u001b[34mCounter({'1': 96, '0': 4})\u001b[0m\n",
      "\u001b[34mMetrics - timestamp=1684033816.1763873; braket_tasks_cost=0.0075; iteration_number=1;\u001b[0m\n",
      "\u001b[34mCounter({'0': 99, '1': 1})\u001b[0m\n",
      "\u001b[34mMetrics - timestamp=1684033818.7527447; braket_tasks_cost=0.01125; iteration_number=2;\u001b[0m\n",
      "\u001b[34mCounter({'0': 66, '1': 34})\u001b[0m\n",
      "\u001b[34mMetrics - timestamp=1684033821.3189068; braket_tasks_cost=0.015; iteration_number=3;\u001b[0m\n",
      "\u001b[34mCounter({'0': 100})\u001b[0m\n",
      "\u001b[34mMetrics - timestamp=1684033824.0551062; braket_tasks_cost=0.01875; iteration_number=4;\u001b[0m\n",
      "\u001b[34mTest job completed!!!!!\u001b[0m\n",
      "\u001b[34mCode Run Finished\u001b[0m\n",
      "\u001b[34m2023-05-14 03:10:24,309 sagemaker-training-toolkit INFO     Reporting training SUCCESS\u001b[0m\n"
     ]
    }
   ],
   "source": [
    "# このセルの実行には 5 分ほどかかります\n",
    "job = AwsQuantumJob.create(\n",
    "    device=\"arn:aws:braket:::device/quantum-simulator/amazon/sv1\",\n",
    "    source_module=\"algorithm_script.py\",\n",
    "    wait_until_complete=True,\n",
    ")"
   ]
  },
  {
   "cell_type": "markdown",
   "id": "b4447bf6-8509-4b0b-94d5-166f6aa06ea2",
   "metadata": {},
   "source": [
    "今回の例では、アルゴリズムは 1 つのファイルで定義されているため、`source_module` は `algorithm_script.py` です。アプリケーションによっては、ソースモジュールを他の方法で設定できます。例えば、ジョブの開始時に `algorithm_script.py` の一部だけを実行したい場合、その部分を `starting_function()` としてパッケージ化することも可能です。そして、`entry_point` という引数を追加して、その関数をエントリポイントとして割り当てます。"
   ]
  },
  {
   "cell_type": "code",
   "execution_count": 3,
   "id": "ae017676-5bc6-46f8-be3b-41c33732c259",
   "metadata": {
    "tags": []
   },
   "outputs": [],
   "source": [
    "source_module = \"algorithm_script.py\"\n",
    "entry_point = \"algorithm_script:starting_function\""
   ]
  },
  {
   "cell_type": "markdown",
   "id": "fcc70403-c4b5-4d9c-9e8e-af5fef2f3a92",
   "metadata": {},
   "source": [
    "アルゴリズムスクリプトが他のファイルと依存関係を持つ場合、それらをすべて 1 つのフォルダ、例えば `algorithm_folder` に置くことができます。この場合、引数は次のようになります。"
   ]
  },
  {
   "cell_type": "code",
   "execution_count": 4,
   "id": "2b0719a2-c456-4238-a966-e5f0738b0351",
   "metadata": {
    "tags": []
   },
   "outputs": [],
   "source": [
    "source_module = \"algorithm_folder\"\n",
    "entry_point = \"algorithm_folder.algorithm_script:starting_function\""
   ]
  },
  {
   "cell_type": "markdown",
   "id": "db709966-af9c-474d-a2fb-e7afcae4542d",
   "metadata": {},
   "source": [
    "## ジョブの状態の確認と結果の取得\n",
    "\n",
    "Braket Job の状態は `job.state()` を呼び出すことで確認できます。状態は \"QUEUED\", \"RUNNING\", \"FAILED\", \"COMPLETED\", \"CANCELLING\",  \"CANCELLED\" のいずれかとなります。"
   ]
  },
  {
   "cell_type": "code",
   "execution_count": 5,
   "id": "8d0e32e0-2961-4716-9e34-6af01ae2a340",
   "metadata": {
    "tags": []
   },
   "outputs": [
    {
     "data": {
      "text/plain": [
       "'COMPLETED'"
      ]
     },
     "execution_count": 5,
     "metadata": {},
     "output_type": "execute_result"
    }
   ],
   "source": [
    "job.state()"
   ]
  },
  {
   "cell_type": "markdown",
   "id": "f1b4a88a-65fb-4ea0-a1c1-fde27ee1164a",
   "metadata": {},
   "source": [
    "完了 (\"COMPLETED\") したら、`job.result()` を用いて結果を取得することができます。ログとメタデータも `job.logs()` と `job.metadata()` で取得できます。ジョブオブジェクトの参照を失った場合は、ジョブ ARN を使用して `job=AwsQuantumJob(\"your-job-arn\")` としていつでも再定義できます。ジョブ ARN は Amazon Braket Console で確認できます。デフォルトでは、ジョブ ARN は \"`arn:aws:braket:<region>:<account_id>:job/<job_name>`\" の形式です。"
   ]
  },
  {
   "cell_type": "code",
   "execution_count": 6,
   "id": "73b71ac7-91cd-461c-a3c5-6f532cf3c2f7",
   "metadata": {
    "tags": []
   },
   "outputs": [
    {
     "name": "stdout",
     "output_type": "stream",
     "text": [
      "counts:  [{'1': 82, '0': 18}, {'1': 96, '0': 4}, {'0': 99, '1': 1}, {'1': 34, '0': 66}, {'0': 100}]\n",
      "angles:  [2.2579830553408797, -2.8787011487593785, 0.09387639599223568, 5.137803481300752, -0.12194465950382408]\n"
     ]
    }
   ],
   "source": [
    "results = job.result()  # job.state() = \"COMPLETED\" となれば結果を返します\n",
    "print(\"counts: \", results[\"counts\"])\n",
    "print(\"angles: \", results[\"angles\"])"
   ]
  },
  {
   "cell_type": "code",
   "execution_count": 8,
   "id": "75ce9b6d-3a58-4275-ae49-5be407ad5d49",
   "metadata": {
    "tags": []
   },
   "outputs": [],
   "source": [
    "# print(job.logs())  # ログを出力したい場合はコメントアウトを外してください"
   ]
  },
  {
   "cell_type": "markdown",
   "id": "52e5c19a-3eb1-4acd-a91f-fd492aac1267",
   "metadata": {},
   "source": [
    "結果をローカルの環境にダウンロードすることもできます。"
   ]
  },
  {
   "cell_type": "code",
   "execution_count": 9,
   "id": "585057fb-2d6c-4147-b6ea-8964110fe25d",
   "metadata": {
    "tags": []
   },
   "outputs": [],
   "source": [
    "job.download_result()  # 結果をローカル環境にダウンロード"
   ]
  },
  {
   "cell_type": "code",
   "execution_count": 10,
   "id": "6106c2ef-18ac-4f9e-b56e-30b2dc65cda1",
   "metadata": {
    "tags": []
   },
   "outputs": [
    {
     "name": "stdout",
     "output_type": "stream",
     "text": [
      "Task Summary\n",
      "{'arn:aws:braket:::device/quantum-simulator/amazon/sv1': {'shots': 500, 'tasks': {'COMPLETED': 5}, 'execution_duration': 0.041, 'billed_execution_duration': 15.0}}\n",
      "Note: Charges shown are estimates based on your Amazon Braket simulator and quantum processing unit (QPU) task usage. Estimated charges shown may differ from your actual charges. Estimated charges do not factor in any discounts or credits, and you may experience additional charges based on your use of other services such as Amazon Elastic Compute Cloud (Amazon EC2).\n",
      "Estimated cost to run tasks in this job: 0.01875 USD\n"
     ]
    }
   ],
   "source": [
    "print(\"Task Summary\")\n",
    "print(job.result()['task summary'])\n",
    "print('Note: Charges shown are estimates based on your Amazon Braket simulator and quantum processing unit (QPU) task usage. Estimated charges shown may differ from your actual charges. Estimated charges do not factor in any discounts or credits, and you may experience additional charges based on your use of other services such as Amazon Elastic Compute Cloud (Amazon EC2).')\n",
    "print(f\"Estimated cost to run tasks in this job: {job.result()['estimated cost']} USD\")"
   ]
  },
  {
   "cell_type": "markdown",
   "id": "5ee0dae3-86e7-4370-b3ef-f4c0ee0dc7cf",
   "metadata": {},
   "source": [
    "## QPU 上で優先的にジョブを実行する\n",
    "\n",
    "Braket Jobs を使用すると、Amazon Braket で利用できる全ての QPU でハイブリッドアルゴリズムを実行することができます。QPU をデバイスとして選択すると、ジョブの実行中、QPU に優先的にアクセスできるようになります。ジョブの一部として作成される量子タスクは、デバイスのキューにある他のタスクよりも先に実行されます。これにより、特定のタスクが遅延したり、ジョブ実行中にデバイスのキャリブレーションに変動が生じるリスクを低減します。\n",
    "\n",
    "`AwsQuantumJob.create()` の device 引数を変更することで、SV1 シミュレータを QPU にシームレスに入れ替えることができます。例えば、以下のコードでは、Rigetti Aspen-M-3 デバイス上で優先アクセス権を持つジョブを作成します。\n",
    "\n",
    "<div class=\"alert alert-block alert-info\">\n",
    "注意: 以下のセルは Rigetti Aspen-M-3 デバイスを使用しています。コメントを解除して実行する前に、デバイスが現在利用可能であることを確認してください。QPU の利用可能時間帯 は Amazon Braket コンソール画面の <a href=\"https://us-west-1.console.aws.amazon.com/braket/home?region=us-west-1#/devices\">Devices ページ</a>で確認できます。\n",
    "</div>"
   ]
  },
  {
   "cell_type": "code",
   "execution_count": null,
   "id": "baf97f0c-739a-4317-a555-183111cdbe96",
   "metadata": {},
   "outputs": [],
   "source": [
    "# qpu_job = AwsQuantumJob.create(\n",
    "#     device=\"arn:aws:braket:us-west-1::device/qpu/rigetti/Aspen-M-3\",\n",
    "#     source_module=\"algorithm_script.py\",\n",
    "#     wait_until_complete=False,\n",
    "# )"
   ]
  },
  {
   "cell_type": "markdown",
   "id": "31b1ccbb-f4ae-4022-afd2-41e0cf1c7762",
   "metadata": {},
   "source": [
    "ジョブを作成すると、Amazon Braket はジョブを初期化する前に、QPU が実行可能になるのを待ちます。なお、Braket Job は、デバイスが利用可能な AWS リージョンを自動的に選択します。前述のように、指定されたデバイスは環境変数 `AMZN_BRAKET_DEVICE_ARN` でジョブに提供されます。スクリプト `algorithm_script.py` はこの変数を使って、使用する Braket デバイスを選択します。\n",
    "\n",
    "変分アルゴリズムでは通常、固定されたパラメータ付き回路が持つパラメータを更新する最適化処理が行われます。このようなアルゴリズムを QPU で実行する場合、パラメトリックコンパイルによってジョブの性能を向上させることができます。その際必要なのは、スクリプトで free parameters を使用してパラメータ付き回路を定義するだけです。このようにすると、Braket は回路を一度コンパイルし、コンパイル済み回路を管理するようになります。パラメータを更新する際は再コンパイルする必要がないため、実行時間が短縮されます。パラメータ化された回路を使用するスクリプトの例は `algorithm_script_parametrized_circuit.py` にあります。このスクリプトを`algorithm_script.py` の代わりに使用し、QPU にジョブを投げることでパラメトリックコンパイルを使用できます。Hybrid Jobs での [free parameters](https://docs.aws.amazon.com/braket/latest/developerguide/braket-constructing-circuit.html#braket-gates) と[パラメトリックコンパイル](https://docs.aws.amazon.com/braket/latest/developerguide/braket-jobs.html)の使い方については、ドキュメントをご参照ください。"
   ]
  },
  {
   "cell_type": "markdown",
   "id": "65390919-baa2-4676-abb6-12de4d83c35f",
   "metadata": {},
   "source": [
    "## AWS セッションについて\n",
    "\n",
    "Braket Jobs が Amazon S3 に結果を保存するデフォルトの場所は、AWS のセッション情報を提供することでカスタマイズすることができます。S3 バケットの名前は \"amazon-braket-\" で始まる必要があり、作成されるジョブと同じリージョンにある必要があります。"
   ]
  },
  {
   "cell_type": "code",
   "execution_count": 11,
   "id": "b21290ff-0341-4be1-a89d-7d84074df06d",
   "metadata": {
    "tags": []
   },
   "outputs": [],
   "source": [
    "from braket.aws import AwsSession\n",
    "\n",
    "# Set Amazon S3 bucket\n",
    "aws_session = AwsSession(default_bucket=\"amazon-braket-bucket-name\")"
   ]
  },
  {
   "cell_type": "markdown",
   "id": "ca953d9a-7dde-43ec-a494-3edcf366ec1b",
   "metadata": {},
   "source": [
    "この S3 バケットを使って Braket Job を作成するには、`AwsQuantumJob.create()` の引数に `aws_session` を渡します。\n",
    "```\n",
    "job = AwsQuantumJob.create(\n",
    "    device=\"arn:aws:braket:::device/quantum-simulator/amazon/sv1\",\n",
    "    source_module=\"algorithm_script.py\",\n",
    "    aws_session=aws_session # using specific S3 bucket\n",
    ")\n",
    "```"
   ]
  },
  {
   "cell_type": "markdown",
   "id": "d7530694-2c2b-44db-a1b6-89fa79eed964",
   "metadata": {},
   "source": [
    "## ローカルジョブを利用してデバッグする\n",
    "\n",
    "コードのテストやデバッグをより迅速に行うために、お客様の環境でジョブをローカルに実行することができます。この機能を使用するには、ローカル環境に Docker がインストールされている必要があります。Amazon Braket Notebook には、Docker がプリインストールされているため、ホストされたノートブックでローカルジョブを即座にテストすることができます。ローカル環境に Docker をインストールするには、以下の[手順](https://docs.docker.com/get-docker/)を参照ください。ローカルジョブを初めて作成する場合、コンテナを構築する必要があるため、時間がかかります。その後の実行はより早くなります。ローカルジョブは Amazon Braket Console には表示されないことに注意してください。\n",
    "\n",
    "ローカルでジョブを実行するには、Docker デーモンが起動していることを確認し、`AwsQuantumJob` の代わりに `LocalQuantumJob` を作成するだけです。ローカルジョブは常に同期的に実行され、ログが表示されます。"
   ]
  },
  {
   "cell_type": "code",
   "execution_count": 12,
   "id": "44a576ba-6058-44a5-ac87-6816740d2465",
   "metadata": {
    "tags": []
   },
   "outputs": [
    {
     "name": "stderr",
     "output_type": "stream",
     "text": [
      "WARNING! Using --password via the CLI is insecure. Use --password-stdin.\n",
      "WARNING! Your password will be stored unencrypted in /home/ec2-user/.docker/config.json.\n",
      "Configure a credential helper to remove this warning. See\n",
      "https://docs.docker.com/engine/reference/commandline/login/#credentials-store\n",
      "\n",
      "Pulling docker container image. This may take a while.\n"
     ]
    },
    {
     "name": "stdout",
     "output_type": "stream",
     "text": [
      "Login Succeeded\n",
      "1.0-cpu-py39-ubuntu22.04: Pulling from amazon-braket-base-jobs\n",
      "74ac377868f8: Pulling fs layer\n",
      "7fe9b8f01457: Pulling fs layer\n",
      "780db72835a0: Pulling fs layer\n",
      "c48699d0db25: Pulling fs layer\n",
      "eacfd7fc3878: Pulling fs layer\n",
      "d032eab7e852: Pulling fs layer\n",
      "354743fa6126: Pulling fs layer\n",
      "740069ceea3b: Pulling fs layer\n",
      "d31f1b3318e6: Pulling fs layer\n",
      "d6075f43bf82: Pulling fs layer\n",
      "eb0da417065f: Pulling fs layer\n",
      "6c747b12e5cf: Pulling fs layer\n",
      "14facc2388ef: Pulling fs layer\n",
      "ea3a15f84b42: Pulling fs layer\n",
      "fd38d897c417: Pulling fs layer\n",
      "3d6e4b48f11e: Pulling fs layer\n",
      "c48699d0db25: Waiting\n",
      "eacfd7fc3878: Waiting\n",
      "d032eab7e852: Waiting\n",
      "354743fa6126: Waiting\n",
      "740069ceea3b: Waiting\n",
      "d31f1b3318e6: Waiting\n",
      "d6075f43bf82: Waiting\n",
      "eb0da417065f: Waiting\n",
      "6c747b12e5cf: Waiting\n",
      "14facc2388ef: Waiting\n",
      "ea3a15f84b42: Waiting\n",
      "3d6e4b48f11e: Waiting\n",
      "fd38d897c417: Waiting\n",
      "780db72835a0: Verifying Checksum\n",
      "780db72835a0: Download complete\n",
      "74ac377868f8: Verifying Checksum\n",
      "74ac377868f8: Download complete\n",
      "c48699d0db25: Verifying Checksum\n",
      "c48699d0db25: Download complete\n",
      "eacfd7fc3878: Verifying Checksum\n",
      "eacfd7fc3878: Download complete\n",
      "d032eab7e852: Verifying Checksum\n",
      "d032eab7e852: Download complete\n",
      "354743fa6126: Verifying Checksum\n",
      "354743fa6126: Download complete\n",
      "740069ceea3b: Verifying Checksum\n",
      "740069ceea3b: Download complete\n",
      "d6075f43bf82: Verifying Checksum\n",
      "d6075f43bf82: Download complete\n",
      "eb0da417065f: Verifying Checksum\n",
      "eb0da417065f: Download complete\n",
      "74ac377868f8: Pull complete\n",
      "d31f1b3318e6: Verifying Checksum\n",
      "d31f1b3318e6: Download complete\n",
      "6c747b12e5cf: Verifying Checksum\n",
      "6c747b12e5cf: Download complete\n",
      "ea3a15f84b42: Verifying Checksum\n",
      "ea3a15f84b42: Download complete\n",
      "fd38d897c417: Download complete\n",
      "3d6e4b48f11e: Verifying Checksum\n",
      "3d6e4b48f11e: Download complete\n",
      "7fe9b8f01457: Verifying Checksum\n",
      "7fe9b8f01457: Download complete\n",
      "14facc2388ef: Verifying Checksum\n",
      "14facc2388ef: Download complete\n",
      "7fe9b8f01457: Pull complete\n",
      "780db72835a0: Pull complete\n",
      "c48699d0db25: Pull complete\n",
      "eacfd7fc3878: Pull complete\n",
      "d032eab7e852: Pull complete\n",
      "354743fa6126: Pull complete\n",
      "740069ceea3b: Pull complete\n",
      "d31f1b3318e6: Pull complete\n",
      "d6075f43bf82: Pull complete\n",
      "eb0da417065f: Pull complete\n",
      "6c747b12e5cf: Pull complete\n",
      "14facc2388ef: Pull complete\n",
      "ea3a15f84b42: Pull complete\n",
      "fd38d897c417: Pull complete\n",
      "3d6e4b48f11e: Pull complete\n",
      "Digest: sha256:03a291d3c46ea412fa4213ac1fef6a11cbce7a1cd124205b2316e0c6b531fca4\n",
      "Status: Downloaded newer image for 292282985366.dkr.ecr.us-east-1.amazonaws.com/amazon-braket-base-jobs:1.0-cpu-py39-ubuntu22.04\n",
      "292282985366.dkr.ecr.us-east-1.amazonaws.com/amazon-braket-base-jobs:1.0-cpu-py39-ubuntu22.04\n"
     ]
    },
    {
     "name": "stderr",
     "output_type": "stream",
     "text": [
      "Using the short-lived AWS credentials found in session. They might expire while running.\n"
     ]
    },
    {
     "name": "stdout",
     "output_type": "stream",
     "text": [
      "Boto3 Version:  1.26.64\n",
      "Beginning Setup\n",
      "Checking for Additional Requirements\n",
      "Additional Requirements Check Finished\n",
      "Running Code As Subprocess\n",
      "Test job started!!!!!\n",
      "Counter({'0': 86, '1': 14})\n",
      "Metrics - timestamp=1684037687.144999; braket_tasks_cost=0.00375; iteration_number=0;\n",
      "Counter({'0': 96, '1': 4})\n",
      "Metrics - timestamp=1684037689.732998; braket_tasks_cost=0.0075; iteration_number=1;\n",
      "Counter({'0': 92, '1': 8})\n",
      "Metrics - timestamp=1684037692.3552556; braket_tasks_cost=0.01125; iteration_number=2;\n",
      "Counter({'1': 52, '0': 48})\n",
      "Metrics - timestamp=1684037695.0975327; braket_tasks_cost=0.015; iteration_number=3;\n",
      "Counter({'1': 90, '0': 10})\n",
      "Metrics - timestamp=1684037697.72457; braket_tasks_cost=0.01875; iteration_number=4;\n",
      "Test job completed!!!!!\n",
      "Code Run Finished\n",
      "c00555bbebdf8f543ff74f8e7bc998c5c433d7a08ef29d6d4371bdd3d728cee0\n"
     ]
    }
   ],
   "source": [
    "from braket.jobs.local.local_job import LocalQuantumJob\n",
    "\n",
    "# This cell should take about 2 min\n",
    "job = LocalQuantumJob.create(\n",
    "    device=\"arn:aws:braket:::device/quantum-simulator/amazon/sv1\",\n",
    "    source_module=\"algorithm_script.py\",\n",
    ")"
   ]
  },
  {
   "cell_type": "code",
   "execution_count": 13,
   "id": "2888d338-4b33-47b1-a4d7-9b3724084731",
   "metadata": {
    "tags": []
   },
   "outputs": [
    {
     "name": "stdout",
     "output_type": "stream",
     "text": [
      "Task Summary\n",
      "{'arn:aws:braket:::device/quantum-simulator/amazon/sv1': {'shots': 500, 'tasks': {'COMPLETED': 5}, 'execution_duration': 0.125, 'billed_execution_duration': 15.0}}\n",
      "Note: Charges shown are estimates based on your Amazon Braket simulator and quantum processing unit (QPU) task usage. Estimated charges shown may differ from your actual charges. Estimated charges do not factor in any discounts or credits, and you may experience additional charges based on your use of other services such as Amazon Elastic Compute Cloud (Amazon EC2).\n",
      "Estimated cost to run tasks in this job: 0.01875 USD\n"
     ]
    }
   ],
   "source": [
    "print(\"Task Summary\")\n",
    "print(job.result()['task summary'])\n",
    "print('Note: Charges shown are estimates based on your Amazon Braket simulator and quantum processing unit (QPU) task usage. Estimated charges shown may differ from your actual charges. Estimated charges do not factor in any discounts or credits, and you may experience additional charges based on your use of other services such as Amazon Elastic Compute Cloud (Amazon EC2).')\n",
    "print(f\"Estimated cost to run tasks in this job: {job.result()['estimated cost']} USD\")"
   ]
  },
  {
   "cell_type": "markdown",
   "id": "21009565-f926-4323-8c4d-14a1c33421a4",
   "metadata": {},
   "source": [
    "## Braket コンソール上でジョブを作成する\n",
    "\n",
    "`AwsQuantumJob.create` を使用してプログラムで Braket Job を作成する以外に、Braket コンソールでジョブを作成するオプションがあります。[こちらのリンク](https://us-west-2.console.aws.amazon.com/braket/home#/job/create) を参照して、\\\"Create job\\\" ページをご確認ください。まず、新しいジョブにユニークな名前をつけます。デフォルトでは、Amazon Braket は AmazonBraketJobsExecutionRole に、ジョブ実行に必要なすべての権限が存在することを確認します。ジョブのすべての入力と出力が保存されるデフォルトの S3 フォルダは、`amazon-braket-<region>-<account number>/jobs/<job-name>` という形式です。S3 バケットとフォルダが存在しない場合、Amazon Braket がお客様の代わりに作成します。これらのデフォルト設定は、\\\"Advanced settings\\\" タブでカスタマイズすることができます。\n",
    "\n",
    "<div align=\"center\"><img src=\"console_figures/1-create.png\"/></div>"
   ]
  },
  {
   "cell_type": "markdown",
   "id": "bfa08567-2ca6-4414-88f1-958c393902c4",
   "metadata": {},
   "source": [
    "次に、ジョブのアルゴリズムスクリプトを選択します。スクリプトは、単一のファイルとしてコンソールで直接アップロードすることができます。アルゴリズムスクリプトに付随するヘルパー関数やその他の依存関係など、多くのファイルがある場合は、S3 バケットにファイルをアップロードして S3 フォルダを提供するオプションがあります。\n",
    "\n",
    "<div align=\"center\"><img src=\"console_figures/2-algorithm.png\"/></div>"
   ]
  },
  {
   "cell_type": "markdown",
   "id": "f098c221-415d-4a37-be21-988bc73a9d76",
   "metadata": {},
   "source": [
    "次に、ジョブに使用する Braket シミュレータまたは QPU の設定を行います。最後に、ハイパーパラメータとデータの入力、チェックポイントと出力データのデフォルトの場所をカスタマイズできます。これらの使用例については、他のノートブックの例で詳しく説明します。全ての設定を終えたら、\\\"Create job\\\" ボタンをクリックして、ジョブを作成します。これで、Braket コンソールでジョブ状態を確認できるようになりました。\n",
    "\n",
    "<div align=\"center\"><img src=\"console_figures/4-execution.png\"/></div>"
   ]
  },
  {
   "cell_type": "markdown",
   "id": "ea1720cd-65cb-416f-bbbd-e654fdbe4a23",
   "metadata": {},
   "source": [
    "## まとめ\n",
    "\n",
    "このチュートリアルでは、Amazon Braket SDK を使用し、5 つのシンプルな回路で最初の Braket Job を作成しました。また、ジョブの Amazon S3 フォルダと AWS リージョンを変更する方法と、結果を保存する方法を学びました。シミュレータや QPU で実行するためにデバイスをシームレスに変更する方法を学びました。ローカルモードを使って、コードを素早くテストしました。最後に、Braket コンソールを使って同じジョブを作成しました。"
   ]
  },
  {
   "cell_type": "code",
   "execution_count": null,
   "id": "1d9371db-cbf3-4920-820a-4d3ce264c392",
   "metadata": {},
   "outputs": [],
   "source": []
  }
 ],
 "metadata": {
  "kernelspec": {
   "display_name": "conda_braket",
   "language": "python",
   "name": "conda_braket"
  },
  "language_info": {
   "codemirror_mode": {
    "name": "ipython",
    "version": 3
   },
   "file_extension": ".py",
   "mimetype": "text/x-python",
   "name": "python",
   "nbconvert_exporter": "python",
   "pygments_lexer": "ipython3",
   "version": "3.10.11"
  }
 },
 "nbformat": 4,
 "nbformat_minor": 5
}
